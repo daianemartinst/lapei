{
 "cells": [
  {
   "cell_type": "markdown",
   "id": "efb2cf2b",
   "metadata": {},
   "source": [
    "# Can we predict business registration?"
   ]
  },
  {
   "cell_type": "code",
   "execution_count": 3,
   "id": "feb00278",
   "metadata": {},
   "outputs": [
    {
     "name": "stdout",
     "output_type": "stream",
     "text": [
      "Requirement already satisfied: sweetviz in c:\\users\\lapei\\anaconda3\\lib\\site-packages (2.1.4)\n",
      "Requirement already satisfied: matplotlib>=3.1.3 in c:\\users\\lapei\\anaconda3\\lib\\site-packages (from sweetviz) (3.7.0)\n",
      "Requirement already satisfied: scipy>=1.3.2 in c:\\users\\lapei\\anaconda3\\lib\\site-packages (from sweetviz) (1.10.0)\n",
      "Requirement already satisfied: numpy>=1.16.0 in c:\\users\\lapei\\anaconda3\\lib\\site-packages (from sweetviz) (1.23.5)\n",
      "Requirement already satisfied: pandas!=1.0.0,!=1.0.1,!=1.0.2,>=0.25.3 in c:\\users\\lapei\\anaconda3\\lib\\site-packages (from sweetviz) (1.5.3)\n",
      "Requirement already satisfied: importlib-resources>=1.2.0 in c:\\users\\lapei\\anaconda3\\lib\\site-packages (from sweetviz) (5.12.0)\n",
      "Requirement already satisfied: jinja2>=2.11.1 in c:\\users\\lapei\\anaconda3\\lib\\site-packages (from sweetviz) (3.1.2)\n",
      "Requirement already satisfied: tqdm>=4.43.0 in c:\\users\\lapei\\anaconda3\\lib\\site-packages (from sweetviz) (4.64.1)\n",
      "Requirement already satisfied: MarkupSafe>=2.0 in c:\\users\\lapei\\anaconda3\\lib\\site-packages (from jinja2>=2.11.1->sweetviz) (2.1.1)\n",
      "Requirement already satisfied: python-dateutil>=2.7 in c:\\users\\lapei\\anaconda3\\lib\\site-packages (from matplotlib>=3.1.3->sweetviz) (2.8.2)\n",
      "Requirement already satisfied: fonttools>=4.22.0 in c:\\users\\lapei\\anaconda3\\lib\\site-packages (from matplotlib>=3.1.3->sweetviz) (4.25.0)\n",
      "Requirement already satisfied: packaging>=20.0 in c:\\users\\lapei\\anaconda3\\lib\\site-packages (from matplotlib>=3.1.3->sweetviz) (22.0)\n",
      "Requirement already satisfied: contourpy>=1.0.1 in c:\\users\\lapei\\anaconda3\\lib\\site-packages (from matplotlib>=3.1.3->sweetviz) (1.0.5)\n",
      "Requirement already satisfied: kiwisolver>=1.0.1 in c:\\users\\lapei\\anaconda3\\lib\\site-packages (from matplotlib>=3.1.3->sweetviz) (1.4.4)\n",
      "Requirement already satisfied: cycler>=0.10 in c:\\users\\lapei\\anaconda3\\lib\\site-packages (from matplotlib>=3.1.3->sweetviz) (0.11.0)\n",
      "Requirement already satisfied: pillow>=6.2.0 in c:\\users\\lapei\\anaconda3\\lib\\site-packages (from matplotlib>=3.1.3->sweetviz) (9.4.0)\n",
      "Requirement already satisfied: pyparsing>=2.3.1 in c:\\users\\lapei\\anaconda3\\lib\\site-packages (from matplotlib>=3.1.3->sweetviz) (3.0.9)\n",
      "Requirement already satisfied: pytz>=2020.1 in c:\\users\\lapei\\anaconda3\\lib\\site-packages (from pandas!=1.0.0,!=1.0.1,!=1.0.2,>=0.25.3->sweetviz) (2022.7)\n",
      "Requirement already satisfied: colorama in c:\\users\\lapei\\anaconda3\\lib\\site-packages (from tqdm>=4.43.0->sweetviz) (0.4.6)\n",
      "Requirement already satisfied: six>=1.5 in c:\\users\\lapei\\anaconda3\\lib\\site-packages (from python-dateutil>=2.7->matplotlib>=3.1.3->sweetviz) (1.16.0)\n"
     ]
    }
   ],
   "source": [
    "!pip install sweetviz"
   ]
  },
  {
   "cell_type": "code",
   "execution_count": 1,
   "id": "6a49ca2c",
   "metadata": {},
   "outputs": [],
   "source": [
    "import pandas as pd \n",
    "import numpy as np\n",
    "import sweetviz as sv"
   ]
  },
  {
   "cell_type": "markdown",
   "id": "d6507487",
   "metadata": {},
   "source": [
    "1) Lendo os dados "
   ]
  },
  {
   "cell_type": "code",
   "execution_count": 2,
   "id": "a93c262a",
   "metadata": {},
   "outputs": [],
   "source": [
    "df = pd.read_excel(\"Base_completa_tratada.xlsx\")"
   ]
  },
  {
   "cell_type": "code",
   "execution_count": 3,
   "id": "a5bf3019",
   "metadata": {
    "scrolled": true
   },
   "outputs": [
    {
     "data": {
      "text/html": [
       "<div>\n",
       "<style scoped>\n",
       "    .dataframe tbody tr th:only-of-type {\n",
       "        vertical-align: middle;\n",
       "    }\n",
       "\n",
       "    .dataframe tbody tr th {\n",
       "        vertical-align: top;\n",
       "    }\n",
       "\n",
       "    .dataframe thead th {\n",
       "        text-align: right;\n",
       "    }\n",
       "</style>\n",
       "<table border=\"1\" class=\"dataframe\">\n",
       "  <thead>\n",
       "    <tr style=\"text-align: right;\">\n",
       "      <th></th>\n",
       "      <th>cod_municipio_ibge</th>\n",
       "      <th>SGUF</th>\n",
       "      <th>NMMUN</th>\n",
       "      <th>qtd_ativas</th>\n",
       "      <th>qtd_ativas_Consórcio de Sociedades</th>\n",
       "      <th>qtd_ativas_Consórcio Simples</th>\n",
       "      <th>qtd_ativas_Cooperativa</th>\n",
       "      <th>qtd_ativas_EIRELI</th>\n",
       "      <th>qtd_ativas_Empresa Pública</th>\n",
       "      <th>qtd_ativas_Empresário Individual</th>\n",
       "      <th>...</th>\n",
       "      <th>pib_per_capita_preco_corrente</th>\n",
       "      <th>atividade_maior_valor_ad_bruto</th>\n",
       "      <th>perc_20_59_anos</th>\n",
       "      <th>perc_idosa</th>\n",
       "      <th>perc_masculino</th>\n",
       "      <th>perc_feminino</th>\n",
       "      <th>pop_total</th>\n",
       "      <th>GeoSES</th>\n",
       "      <th>total_sim_tecnologia</th>\n",
       "      <th>total_não_tecnologia</th>\n",
       "    </tr>\n",
       "  </thead>\n",
       "  <tbody>\n",
       "    <tr>\n",
       "      <th>0</th>\n",
       "      <td>110001</td>\n",
       "      <td>RO</td>\n",
       "      <td>Alta Floresta D'Oeste</td>\n",
       "      <td>1567</td>\n",
       "      <td>NaN</td>\n",
       "      <td>NaN</td>\n",
       "      <td>8.0</td>\n",
       "      <td>NaN</td>\n",
       "      <td>2.0</td>\n",
       "      <td>1102</td>\n",
       "      <td>...</td>\n",
       "      <td>25091.18</td>\n",
       "      <td>Administração, defesa, educação e saúde públic...</td>\n",
       "      <td>0.587227</td>\n",
       "      <td>0.129774</td>\n",
       "      <td>0.510881</td>\n",
       "      <td>0.489119</td>\n",
       "      <td>22516</td>\n",
       "      <td>-0.468436</td>\n",
       "      <td>18.0</td>\n",
       "      <td>12.0</td>\n",
       "    </tr>\n",
       "    <tr>\n",
       "      <th>1</th>\n",
       "      <td>110002</td>\n",
       "      <td>RO</td>\n",
       "      <td>Ariquemes</td>\n",
       "      <td>9231</td>\n",
       "      <td>2.0</td>\n",
       "      <td>NaN</td>\n",
       "      <td>49.0</td>\n",
       "      <td>NaN</td>\n",
       "      <td>4.0</td>\n",
       "      <td>5942</td>\n",
       "      <td>...</td>\n",
       "      <td>25730.20</td>\n",
       "      <td>Demais serviços</td>\n",
       "      <td>0.591797</td>\n",
       "      <td>0.098121</td>\n",
       "      <td>0.499298</td>\n",
       "      <td>0.500702</td>\n",
       "      <td>111148</td>\n",
       "      <td>-0.271203</td>\n",
       "      <td>12.0</td>\n",
       "      <td>18.0</td>\n",
       "    </tr>\n",
       "    <tr>\n",
       "      <th>2</th>\n",
       "      <td>110003</td>\n",
       "      <td>RO</td>\n",
       "      <td>Cabixi</td>\n",
       "      <td>384</td>\n",
       "      <td>NaN</td>\n",
       "      <td>NaN</td>\n",
       "      <td>3.0</td>\n",
       "      <td>NaN</td>\n",
       "      <td>1.0</td>\n",
       "      <td>295</td>\n",
       "      <td>...</td>\n",
       "      <td>32226.25</td>\n",
       "      <td>Administração, defesa, educação e saúde públic...</td>\n",
       "      <td>0.584567</td>\n",
       "      <td>0.143477</td>\n",
       "      <td>0.509374</td>\n",
       "      <td>0.490626</td>\n",
       "      <td>5067</td>\n",
       "      <td>-0.401556</td>\n",
       "      <td>8.0</td>\n",
       "      <td>22.0</td>\n",
       "    </tr>\n",
       "    <tr>\n",
       "      <th>3</th>\n",
       "      <td>110004</td>\n",
       "      <td>RO</td>\n",
       "      <td>Cacoal</td>\n",
       "      <td>8615</td>\n",
       "      <td>1.0</td>\n",
       "      <td>NaN</td>\n",
       "      <td>26.0</td>\n",
       "      <td>NaN</td>\n",
       "      <td>4.0</td>\n",
       "      <td>5392</td>\n",
       "      <td>...</td>\n",
       "      <td>29331.29</td>\n",
       "      <td>Demais serviços</td>\n",
       "      <td>0.595584</td>\n",
       "      <td>0.123658</td>\n",
       "      <td>0.489655</td>\n",
       "      <td>0.510345</td>\n",
       "      <td>86416</td>\n",
       "      <td>-0.237966</td>\n",
       "      <td>17.0</td>\n",
       "      <td>13.0</td>\n",
       "    </tr>\n",
       "    <tr>\n",
       "      <th>4</th>\n",
       "      <td>110005</td>\n",
       "      <td>RO</td>\n",
       "      <td>Cerejeiras</td>\n",
       "      <td>1618</td>\n",
       "      <td>NaN</td>\n",
       "      <td>NaN</td>\n",
       "      <td>8.0</td>\n",
       "      <td>NaN</td>\n",
       "      <td>2.0</td>\n",
       "      <td>1158</td>\n",
       "      <td>...</td>\n",
       "      <td>37069.25</td>\n",
       "      <td>Comércio e reparação de veículos automotores e...</td>\n",
       "      <td>0.598272</td>\n",
       "      <td>0.132210</td>\n",
       "      <td>0.492292</td>\n",
       "      <td>0.507708</td>\n",
       "      <td>16088</td>\n",
       "      <td>-0.333290</td>\n",
       "      <td>8.0</td>\n",
       "      <td>22.0</td>\n",
       "    </tr>\n",
       "  </tbody>\n",
       "</table>\n",
       "<p>5 rows × 171 columns</p>\n",
       "</div>"
      ],
      "text/plain": [
       "   cod_municipio_ibge SGUF                  NMMUN  qtd_ativas  \\\n",
       "0              110001   RO  Alta Floresta D'Oeste        1567   \n",
       "1              110002   RO              Ariquemes        9231   \n",
       "2              110003   RO                 Cabixi         384   \n",
       "3              110004   RO                 Cacoal        8615   \n",
       "4              110005   RO             Cerejeiras        1618   \n",
       "\n",
       "   qtd_ativas_Consórcio de Sociedades  qtd_ativas_Consórcio Simples  \\\n",
       "0                                 NaN                           NaN   \n",
       "1                                 2.0                           NaN   \n",
       "2                                 NaN                           NaN   \n",
       "3                                 1.0                           NaN   \n",
       "4                                 NaN                           NaN   \n",
       "\n",
       "   qtd_ativas_Cooperativa  qtd_ativas_EIRELI  qtd_ativas_Empresa Pública  \\\n",
       "0                     8.0                NaN                         2.0   \n",
       "1                    49.0                NaN                         4.0   \n",
       "2                     3.0                NaN                         1.0   \n",
       "3                    26.0                NaN                         4.0   \n",
       "4                     8.0                NaN                         2.0   \n",
       "\n",
       "   qtd_ativas_Empresário Individual  ...  pib_per_capita_preco_corrente  \\\n",
       "0                              1102  ...                       25091.18   \n",
       "1                              5942  ...                       25730.20   \n",
       "2                               295  ...                       32226.25   \n",
       "3                              5392  ...                       29331.29   \n",
       "4                              1158  ...                       37069.25   \n",
       "\n",
       "                      atividade_maior_valor_ad_bruto  perc_20_59_anos  \\\n",
       "0  Administração, defesa, educação e saúde públic...         0.587227   \n",
       "1                                    Demais serviços         0.591797   \n",
       "2  Administração, defesa, educação e saúde públic...         0.584567   \n",
       "3                                    Demais serviços         0.595584   \n",
       "4  Comércio e reparação de veículos automotores e...         0.598272   \n",
       "\n",
       "   perc_idosa  perc_masculino  perc_feminino  pop_total    GeoSES  \\\n",
       "0    0.129774        0.510881       0.489119      22516 -0.468436   \n",
       "1    0.098121        0.499298       0.500702     111148 -0.271203   \n",
       "2    0.143477        0.509374       0.490626       5067 -0.401556   \n",
       "3    0.123658        0.489655       0.510345      86416 -0.237966   \n",
       "4    0.132210        0.492292       0.507708      16088 -0.333290   \n",
       "\n",
       "   total_sim_tecnologia  total_não_tecnologia  \n",
       "0                  18.0                  12.0  \n",
       "1                  12.0                  18.0  \n",
       "2                   8.0                  22.0  \n",
       "3                  17.0                  13.0  \n",
       "4                   8.0                  22.0  \n",
       "\n",
       "[5 rows x 171 columns]"
      ]
     },
     "execution_count": 3,
     "metadata": {},
     "output_type": "execute_result"
    }
   ],
   "source": [
    "df.head()"
   ]
  },
  {
   "cell_type": "markdown",
   "id": "da58e861",
   "metadata": {},
   "source": [
    "2) Selecionando as variávies que vamos utilizar"
   ]
  },
  {
   "cell_type": "code",
   "execution_count": 4,
   "id": "f242617c",
   "metadata": {},
   "outputs": [],
   "source": [
    "df = df[['SGUF','NMMUN','qtd_abertas','qtd_abertas_Empresário Individual','qtd_tempo_horas','qtd_horas_Empresário Individual',\n",
    "    'Mecanismos_incentivo','Reducao_IPTU', 'Isencao_IPTU', 'Reducao_ISSQN','Isencao_ISSQN','Isencao_Tx','Cessao_terrenos',\n",
    "    'Doacao_terrenos','Outros_mecanismos','RH_adm_dir','ISH','densidade_banda_larga','densidade_telefonia_movel','qtd_cursos_engenharias',\n",
    "    'qtd_cursos_negocios_direito','media_notas_CN','media_notas_CH','media_NU_NOTA_LC','media_NU_NOTA_MT',\n",
    "    'media_NU_NOTA_REDACAO','valor_medio_recebido_familia','pib_per_capita_preco_corrente','atividade_maior_valor_ad_bruto',\n",
    "    'perc_20_59_anos','pop_total','GeoSES','total_sim_tecnologia','total_não_tecnologia']]"
   ]
  },
  {
   "cell_type": "code",
   "execution_count": 38,
   "id": "b87b200b",
   "metadata": {},
   "outputs": [
    {
     "name": "stdout",
     "output_type": "stream",
     "text": [
      "<class 'pandas.core.frame.DataFrame'>\n",
      "RangeIndex: 5570 entries, 0 to 5569\n",
      "Data columns (total 34 columns):\n",
      " #   Column                             Non-Null Count  Dtype  \n",
      "---  ------                             --------------  -----  \n",
      " 0   SGUF                               5570 non-null   object \n",
      " 1   NMMUN                              5570 non-null   object \n",
      " 2   qtd_abertas                        5570 non-null   int64  \n",
      " 3   qtd_abertas_Empresário Individual  5570 non-null   int64  \n",
      " 4   qtd_tempo_horas                    4496 non-null   float64\n",
      " 5   qtd_horas_Empresário Individual    3907 non-null   float64\n",
      " 6   Mecanismos_incentivo               5568 non-null   object \n",
      " 7   Reducao_IPTU                       3484 non-null   object \n",
      " 8   Isencao_IPTU                       3484 non-null   object \n",
      " 9   Reducao_ISSQN                      3484 non-null   object \n",
      " 10  Isencao_ISSQN                      3484 non-null   object \n",
      " 11  Isencao_Tx                         3484 non-null   object \n",
      " 12  Cessao_terrenos                    3484 non-null   object \n",
      " 13  Doacao_terrenos                    3484 non-null   object \n",
      " 14  Outros_mecanismos                  3484 non-null   object \n",
      " 15  RH_adm_dir                         5547 non-null   float64\n",
      " 16  ISH                                5570 non-null   object \n",
      " 17  densidade_banda_larga              5570 non-null   float64\n",
      " 18  densidade_telefonia_movel          5570 non-null   float64\n",
      " 19  qtd_cursos_engenharias             1193 non-null   float64\n",
      " 20  qtd_cursos_negocios_direito        2006 non-null   float64\n",
      " 21  media_notas_CN                     5479 non-null   float64\n",
      " 22  media_notas_CH                     5486 non-null   float64\n",
      " 23  media_NU_NOTA_LC                   5486 non-null   float64\n",
      " 24  media_NU_NOTA_MT                   5479 non-null   float64\n",
      " 25  media_NU_NOTA_REDACAO              5476 non-null   float64\n",
      " 26  valor_medio_recebido_familia       5570 non-null   int64  \n",
      " 27  pib_per_capita_preco_corrente      5570 non-null   float64\n",
      " 28  atividade_maior_valor_ad_bruto     5570 non-null   object \n",
      " 29  perc_20_59_anos                    5570 non-null   float64\n",
      " 30  pop_total                          5570 non-null   int64  \n",
      " 31  GeoSES                             5565 non-null   float64\n",
      " 32  total_sim_tecnologia               5441 non-null   float64\n",
      " 33  total_não_tecnologia               5441 non-null   float64\n",
      "dtypes: float64(17), int64(4), object(13)\n",
      "memory usage: 1.4+ MB\n"
     ]
    }
   ],
   "source": [
    "df.info()"
   ]
  },
  {
   "cell_type": "code",
   "execution_count": 5,
   "id": "644eca90",
   "metadata": {},
   "outputs": [],
   "source": [
    "df_get = pd.get_dummies(df, prefix=None, prefix_sep='_', dummy_na=False, columns=None, sparse=False, drop_first=False, dtype=None)"
   ]
  },
  {
   "cell_type": "code",
   "execution_count": 13,
   "id": "6664f35e",
   "metadata": {
    "scrolled": true
   },
   "outputs": [
    {
     "data": {
      "text/html": [
       "<div>\n",
       "<style scoped>\n",
       "    .dataframe tbody tr th:only-of-type {\n",
       "        vertical-align: middle;\n",
       "    }\n",
       "\n",
       "    .dataframe tbody tr th {\n",
       "        vertical-align: top;\n",
       "    }\n",
       "\n",
       "    .dataframe thead th {\n",
       "        text-align: right;\n",
       "    }\n",
       "</style>\n",
       "<table border=\"1\" class=\"dataframe\">\n",
       "  <thead>\n",
       "    <tr style=\"text-align: right;\">\n",
       "      <th></th>\n",
       "      <th>qtd_abertas</th>\n",
       "      <th>qtd_abertas_Empresário Individual</th>\n",
       "      <th>qtd_tempo_horas</th>\n",
       "      <th>qtd_horas_Empresário Individual</th>\n",
       "      <th>RH_adm_dir</th>\n",
       "      <th>densidade_banda_larga</th>\n",
       "      <th>densidade_telefonia_movel</th>\n",
       "      <th>qtd_cursos_engenharias</th>\n",
       "      <th>qtd_cursos_negocios_direito</th>\n",
       "      <th>media_notas_CN</th>\n",
       "      <th>...</th>\n",
       "      <th>atividade_maior_valor_ad_bruto_Administração, defesa, educação e saúde públicas e seguridade social</th>\n",
       "      <th>atividade_maior_valor_ad_bruto_Agricultura, inclusive apoio à agricultura e a pós colheita</th>\n",
       "      <th>atividade_maior_valor_ad_bruto_Comércio e reparação de veículos automotores e motocicletas</th>\n",
       "      <th>atividade_maior_valor_ad_bruto_Construção</th>\n",
       "      <th>atividade_maior_valor_ad_bruto_Demais serviços</th>\n",
       "      <th>atividade_maior_valor_ad_bruto_Eletricidade e gás, água, esgoto, atividades de gestão de resíduos e descontaminação</th>\n",
       "      <th>atividade_maior_valor_ad_bruto_Indústrias de transformação</th>\n",
       "      <th>atividade_maior_valor_ad_bruto_Indústrias extrativas</th>\n",
       "      <th>atividade_maior_valor_ad_bruto_Pecuária, inclusive apoio à pecuária</th>\n",
       "      <th>atividade_maior_valor_ad_bruto_Produção florestal, pesca e aquicultura</th>\n",
       "    </tr>\n",
       "  </thead>\n",
       "  <tbody>\n",
       "    <tr>\n",
       "      <th>0</th>\n",
       "      <td>233</td>\n",
       "      <td>194</td>\n",
       "      <td>46.326970</td>\n",
       "      <td>39.01</td>\n",
       "      <td>926.0</td>\n",
       "      <td>8.958074</td>\n",
       "      <td>70.647540</td>\n",
       "      <td>2.0</td>\n",
       "      <td>30.0</td>\n",
       "      <td>497.721951</td>\n",
       "      <td>...</td>\n",
       "      <td>1</td>\n",
       "      <td>0</td>\n",
       "      <td>0</td>\n",
       "      <td>0</td>\n",
       "      <td>0</td>\n",
       "      <td>0</td>\n",
       "      <td>0</td>\n",
       "      <td>0</td>\n",
       "      <td>0</td>\n",
       "      <td>0</td>\n",
       "    </tr>\n",
       "    <tr>\n",
       "      <th>1</th>\n",
       "      <td>1659</td>\n",
       "      <td>1275</td>\n",
       "      <td>104.011375</td>\n",
       "      <td>67.73</td>\n",
       "      <td>2563.0</td>\n",
       "      <td>21.363407</td>\n",
       "      <td>93.858639</td>\n",
       "      <td>99.0</td>\n",
       "      <td>342.0</td>\n",
       "      <td>474.773986</td>\n",
       "      <td>...</td>\n",
       "      <td>0</td>\n",
       "      <td>0</td>\n",
       "      <td>0</td>\n",
       "      <td>0</td>\n",
       "      <td>1</td>\n",
       "      <td>0</td>\n",
       "      <td>0</td>\n",
       "      <td>0</td>\n",
       "      <td>0</td>\n",
       "      <td>0</td>\n",
       "    </tr>\n",
       "    <tr>\n",
       "      <th>2</th>\n",
       "      <td>58</td>\n",
       "      <td>49</td>\n",
       "      <td>32.906250</td>\n",
       "      <td>19.40</td>\n",
       "      <td>344.0</td>\n",
       "      <td>5.407539</td>\n",
       "      <td>78.369844</td>\n",
       "      <td>NaN</td>\n",
       "      <td>NaN</td>\n",
       "      <td>477.266667</td>\n",
       "      <td>...</td>\n",
       "      <td>1</td>\n",
       "      <td>0</td>\n",
       "      <td>0</td>\n",
       "      <td>0</td>\n",
       "      <td>0</td>\n",
       "      <td>0</td>\n",
       "      <td>0</td>\n",
       "      <td>0</td>\n",
       "      <td>0</td>\n",
       "      <td>0</td>\n",
       "    </tr>\n",
       "    <tr>\n",
       "      <th>3</th>\n",
       "      <td>1624</td>\n",
       "      <td>1258</td>\n",
       "      <td>122.208551</td>\n",
       "      <td>58.31</td>\n",
       "      <td>1971.0</td>\n",
       "      <td>19.480189</td>\n",
       "      <td>105.350861</td>\n",
       "      <td>184.0</td>\n",
       "      <td>422.0</td>\n",
       "      <td>489.744000</td>\n",
       "      <td>...</td>\n",
       "      <td>0</td>\n",
       "      <td>0</td>\n",
       "      <td>0</td>\n",
       "      <td>0</td>\n",
       "      <td>1</td>\n",
       "      <td>0</td>\n",
       "      <td>0</td>\n",
       "      <td>0</td>\n",
       "      <td>0</td>\n",
       "      <td>0</td>\n",
       "    </tr>\n",
       "    <tr>\n",
       "      <th>4</th>\n",
       "      <td>316</td>\n",
       "      <td>257</td>\n",
       "      <td>43.914474</td>\n",
       "      <td>21.41</td>\n",
       "      <td>591.0</td>\n",
       "      <td>8.540527</td>\n",
       "      <td>108.074341</td>\n",
       "      <td>4.0</td>\n",
       "      <td>35.0</td>\n",
       "      <td>479.268750</td>\n",
       "      <td>...</td>\n",
       "      <td>0</td>\n",
       "      <td>0</td>\n",
       "      <td>1</td>\n",
       "      <td>0</td>\n",
       "      <td>0</td>\n",
       "      <td>0</td>\n",
       "      <td>0</td>\n",
       "      <td>0</td>\n",
       "      <td>0</td>\n",
       "      <td>0</td>\n",
       "    </tr>\n",
       "  </tbody>\n",
       "</table>\n",
       "<p>5 rows × 5378 columns</p>\n",
       "</div>"
      ],
      "text/plain": [
       "   qtd_abertas  qtd_abertas_Empresário Individual  qtd_tempo_horas  \\\n",
       "0          233                                194        46.326970   \n",
       "1         1659                               1275       104.011375   \n",
       "2           58                                 49        32.906250   \n",
       "3         1624                               1258       122.208551   \n",
       "4          316                                257        43.914474   \n",
       "\n",
       "   qtd_horas_Empresário Individual  RH_adm_dir  densidade_banda_larga  \\\n",
       "0                            39.01       926.0               8.958074   \n",
       "1                            67.73      2563.0              21.363407   \n",
       "2                            19.40       344.0               5.407539   \n",
       "3                            58.31      1971.0              19.480189   \n",
       "4                            21.41       591.0               8.540527   \n",
       "\n",
       "   densidade_telefonia_movel  qtd_cursos_engenharias  \\\n",
       "0                  70.647540                     2.0   \n",
       "1                  93.858639                    99.0   \n",
       "2                  78.369844                     NaN   \n",
       "3                 105.350861                   184.0   \n",
       "4                 108.074341                     4.0   \n",
       "\n",
       "   qtd_cursos_negocios_direito  media_notas_CN  ...  \\\n",
       "0                         30.0      497.721951  ...   \n",
       "1                        342.0      474.773986  ...   \n",
       "2                          NaN      477.266667  ...   \n",
       "3                        422.0      489.744000  ...   \n",
       "4                         35.0      479.268750  ...   \n",
       "\n",
       "   atividade_maior_valor_ad_bruto_Administração, defesa, educação e saúde públicas e seguridade social  \\\n",
       "0                                                  1                                                     \n",
       "1                                                  0                                                     \n",
       "2                                                  1                                                     \n",
       "3                                                  0                                                     \n",
       "4                                                  0                                                     \n",
       "\n",
       "   atividade_maior_valor_ad_bruto_Agricultura, inclusive apoio à agricultura e a pós colheita  \\\n",
       "0                                                  0                                            \n",
       "1                                                  0                                            \n",
       "2                                                  0                                            \n",
       "3                                                  0                                            \n",
       "4                                                  0                                            \n",
       "\n",
       "   atividade_maior_valor_ad_bruto_Comércio e reparação de veículos automotores e motocicletas  \\\n",
       "0                                                  0                                            \n",
       "1                                                  0                                            \n",
       "2                                                  0                                            \n",
       "3                                                  0                                            \n",
       "4                                                  1                                            \n",
       "\n",
       "   atividade_maior_valor_ad_bruto_Construção  \\\n",
       "0                                          0   \n",
       "1                                          0   \n",
       "2                                          0   \n",
       "3                                          0   \n",
       "4                                          0   \n",
       "\n",
       "   atividade_maior_valor_ad_bruto_Demais serviços  \\\n",
       "0                                               0   \n",
       "1                                               1   \n",
       "2                                               0   \n",
       "3                                               1   \n",
       "4                                               0   \n",
       "\n",
       "   atividade_maior_valor_ad_bruto_Eletricidade e gás, água, esgoto, atividades de gestão de resíduos e descontaminação  \\\n",
       "0                                                  0                                                                     \n",
       "1                                                  0                                                                     \n",
       "2                                                  0                                                                     \n",
       "3                                                  0                                                                     \n",
       "4                                                  0                                                                     \n",
       "\n",
       "   atividade_maior_valor_ad_bruto_Indústrias de transformação  \\\n",
       "0                                                  0            \n",
       "1                                                  0            \n",
       "2                                                  0            \n",
       "3                                                  0            \n",
       "4                                                  0            \n",
       "\n",
       "   atividade_maior_valor_ad_bruto_Indústrias extrativas  \\\n",
       "0                                                  0      \n",
       "1                                                  0      \n",
       "2                                                  0      \n",
       "3                                                  0      \n",
       "4                                                  0      \n",
       "\n",
       "   atividade_maior_valor_ad_bruto_Pecuária, inclusive apoio à pecuária  \\\n",
       "0                                                  0                     \n",
       "1                                                  0                     \n",
       "2                                                  0                     \n",
       "3                                                  0                     \n",
       "4                                                  0                     \n",
       "\n",
       "   atividade_maior_valor_ad_bruto_Produção florestal, pesca e aquicultura  \n",
       "0                                                  0                       \n",
       "1                                                  0                       \n",
       "2                                                  0                       \n",
       "3                                                  0                       \n",
       "4                                                  0                       \n",
       "\n",
       "[5 rows x 5378 columns]"
      ]
     },
     "execution_count": 13,
     "metadata": {},
     "output_type": "execute_result"
    }
   ],
   "source": [
    "df_get.head()"
   ]
  },
  {
   "cell_type": "code",
   "execution_count": 12,
   "id": "c1366d63",
   "metadata": {},
   "outputs": [
    {
     "name": "stdout",
     "output_type": "stream",
     "text": [
      "<class 'pandas.core.frame.DataFrame'>\n",
      "RangeIndex: 5570 entries, 0 to 5569\n",
      "Columns: 5378 entries, qtd_abertas to atividade_maior_valor_ad_bruto_Produção florestal, pesca e aquicultura\n",
      "dtypes: float64(17), int64(4), uint8(5357)\n",
      "memory usage: 29.3 MB\n"
     ]
    }
   ],
   "source": [
    "df_get.info()"
   ]
  },
  {
   "cell_type": "code",
   "execution_count": 37,
   "id": "c40c8c70",
   "metadata": {},
   "outputs": [],
   "source": [
    "df_div = np.random.rand(len(df_get)) < 0.8 # cria uma mascara com as posicoes\n",
    "train = df_get[df_div]\n",
    "test = df_get[~df_div]"
   ]
  },
  {
   "cell_type": "code",
   "execution_count": 68,
   "id": "3e499bcb",
   "metadata": {},
   "outputs": [],
   "source": [
    "X = train\n",
    "y = train[\"qtd_abertas\"] \n",
    "X_test = test"
   ]
  },
  {
   "cell_type": "code",
   "execution_count": 70,
   "id": "9824fbc3",
   "metadata": {},
   "outputs": [],
   "source": [
    "X = X.drop(\"qtd_abertas\", axis = 1)"
   ]
  },
  {
   "cell_type": "markdown",
   "id": "22825ccf",
   "metadata": {},
   "source": [
    "3) Treinando os Algoritimos"
   ]
  },
  {
   "cell_type": "markdown",
   "id": "728ca47f",
   "metadata": {},
   "source": [
    "Floresta Aleatória - Classificação"
   ]
  },
  {
   "cell_type": "code",
   "execution_count": 72,
   "id": "86c77e5e",
   "metadata": {},
   "outputs": [],
   "source": [
    "#bibliotecas Floresta aleatória \n",
    "from  sklearn.ensemble  import RandomForestClassifier \n",
    "\n",
    "from sklearn.model_selection import train_test_split\n"
   ]
  },
  {
   "cell_type": "code",
   "execution_count": 73,
   "id": "3cb9c115",
   "metadata": {},
   "outputs": [],
   "source": [
    "#Separando em treino e teste\n",
    "\n",
    "X_treino, X_valid, y_treino, y_valid = train_test_split(X, y, test_size = 0.3, random_state= 0) # 30%"
   ]
  },
  {
   "cell_type": "code",
   "execution_count": null,
   "id": "e06d6296",
   "metadata": {},
   "outputs": [],
   "source": [
    "#floresta aleatória - Classificação \n",
    "\n",
    "modelo_floresta_aleatoria = RandomForestClassifier(n_estimators=1000,random_state = 0) \n",
    "\n",
    "modelo_floresta_aleatoria.fit (X_treino, y_treino)\n",
    "\n",
    "\n",
    "#RandomForestClassifier não aceita valores ausentes identificados como NA"
   ]
  },
  {
   "cell_type": "code",
   "execution_count": null,
   "id": "ac21102f",
   "metadata": {},
   "outputs": [],
   "source": [
    "#previsão do modelo\n",
    "#previsao = modelo_floresta_aleatoria.predict(X_valid)"
   ]
  },
  {
   "cell_type": "code",
   "execution_count": null,
   "id": "bf6fe05b",
   "metadata": {},
   "outputs": [],
   "source": [
    "#Acuracia\n",
    "\n",
    "#Acuracia = np.mean(y_valid == previsao) \n",
    "\n",
    "#print(Acuracia)"
   ]
  },
  {
   "cell_type": "markdown",
   "id": "236ba443",
   "metadata": {},
   "source": [
    "Arvore de Decisão - Regressão"
   ]
  },
  {
   "cell_type": "code",
   "execution_count": 81,
   "id": "c286679e",
   "metadata": {},
   "outputs": [],
   "source": [
    "#biblioteca - Arvore de Decisão (regressão)\n",
    "\n",
    "from sklearn.model_selection import train_test_split\n",
    "from sklearn.tree import DecisionTreeRegressor, plot_tree\n",
    "from sklearn.tree import DecisionTreeRegressor\n",
    "from sklearn.metrics import mean_squared_error"
   ]
  },
  {
   "cell_type": "code",
   "execution_count": 82,
   "id": "7c2c0691",
   "metadata": {},
   "outputs": [],
   "source": [
    "#separando em treino e teste\n",
    "\n",
    "X_treino, X_valid, y_treino, y_valid = train_test_split(X, y, test_size = 0.3, random_state= 0) # 30%"
   ]
  },
  {
   "cell_type": "code",
   "execution_count": null,
   "id": "8efbc9e4",
   "metadata": {},
   "outputs": [],
   "source": [
    "#max_depth = quantidade de divisões\n",
    "\n",
    "arvore_decisao = DecisionTreeRegressor( max_depth= 3, random_state= 0) #OUTRO PARAMENTO -> min_samples_leaf\n",
    "arvore_decisao.fit(X_treino, y_treino)"
   ]
  },
  {
   "cell_type": "code",
   "execution_count": null,
   "id": "43019990",
   "metadata": {},
   "outputs": [],
   "source": [
    "#pred_arv_decisao = arvore_decisao.predict(X_valid)\n",
    "\n",
    "#np.sqrt (mean_squared_error (y_valid, pred_arv_decisao))"
   ]
  },
  {
   "cell_type": "markdown",
   "id": "70e2109e",
   "metadata": {},
   "source": [
    "Testando o  HistGradientBoostingClassifier\n"
   ]
  },
  {
   "cell_type": "code",
   "execution_count": 84,
   "id": "30c49eaf",
   "metadata": {},
   "outputs": [],
   "source": [
    "from sklearn.ensemble import HistGradientBoostingClassifier"
   ]
  },
  {
   "cell_type": "code",
   "execution_count": 86,
   "id": "2924b4d9",
   "metadata": {},
   "outputs": [
    {
     "data": {
      "text/html": [
       "<style>#sk-container-id-1 {color: black;background-color: white;}#sk-container-id-1 pre{padding: 0;}#sk-container-id-1 div.sk-toggleable {background-color: white;}#sk-container-id-1 label.sk-toggleable__label {cursor: pointer;display: block;width: 100%;margin-bottom: 0;padding: 0.3em;box-sizing: border-box;text-align: center;}#sk-container-id-1 label.sk-toggleable__label-arrow:before {content: \"▸\";float: left;margin-right: 0.25em;color: #696969;}#sk-container-id-1 label.sk-toggleable__label-arrow:hover:before {color: black;}#sk-container-id-1 div.sk-estimator:hover label.sk-toggleable__label-arrow:before {color: black;}#sk-container-id-1 div.sk-toggleable__content {max-height: 0;max-width: 0;overflow: hidden;text-align: left;background-color: #f0f8ff;}#sk-container-id-1 div.sk-toggleable__content pre {margin: 0.2em;color: black;border-radius: 0.25em;background-color: #f0f8ff;}#sk-container-id-1 input.sk-toggleable__control:checked~div.sk-toggleable__content {max-height: 200px;max-width: 100%;overflow: auto;}#sk-container-id-1 input.sk-toggleable__control:checked~label.sk-toggleable__label-arrow:before {content: \"▾\";}#sk-container-id-1 div.sk-estimator input.sk-toggleable__control:checked~label.sk-toggleable__label {background-color: #d4ebff;}#sk-container-id-1 div.sk-label input.sk-toggleable__control:checked~label.sk-toggleable__label {background-color: #d4ebff;}#sk-container-id-1 input.sk-hidden--visually {border: 0;clip: rect(1px 1px 1px 1px);clip: rect(1px, 1px, 1px, 1px);height: 1px;margin: -1px;overflow: hidden;padding: 0;position: absolute;width: 1px;}#sk-container-id-1 div.sk-estimator {font-family: monospace;background-color: #f0f8ff;border: 1px dotted black;border-radius: 0.25em;box-sizing: border-box;margin-bottom: 0.5em;}#sk-container-id-1 div.sk-estimator:hover {background-color: #d4ebff;}#sk-container-id-1 div.sk-parallel-item::after {content: \"\";width: 100%;border-bottom: 1px solid gray;flex-grow: 1;}#sk-container-id-1 div.sk-label:hover label.sk-toggleable__label {background-color: #d4ebff;}#sk-container-id-1 div.sk-serial::before {content: \"\";position: absolute;border-left: 1px solid gray;box-sizing: border-box;top: 0;bottom: 0;left: 50%;z-index: 0;}#sk-container-id-1 div.sk-serial {display: flex;flex-direction: column;align-items: center;background-color: white;padding-right: 0.2em;padding-left: 0.2em;position: relative;}#sk-container-id-1 div.sk-item {position: relative;z-index: 1;}#sk-container-id-1 div.sk-parallel {display: flex;align-items: stretch;justify-content: center;background-color: white;position: relative;}#sk-container-id-1 div.sk-item::before, #sk-container-id-1 div.sk-parallel-item::before {content: \"\";position: absolute;border-left: 1px solid gray;box-sizing: border-box;top: 0;bottom: 0;left: 50%;z-index: -1;}#sk-container-id-1 div.sk-parallel-item {display: flex;flex-direction: column;z-index: 1;position: relative;background-color: white;}#sk-container-id-1 div.sk-parallel-item:first-child::after {align-self: flex-end;width: 50%;}#sk-container-id-1 div.sk-parallel-item:last-child::after {align-self: flex-start;width: 50%;}#sk-container-id-1 div.sk-parallel-item:only-child::after {width: 0;}#sk-container-id-1 div.sk-dashed-wrapped {border: 1px dashed gray;margin: 0 0.4em 0.5em 0.4em;box-sizing: border-box;padding-bottom: 0.4em;background-color: white;}#sk-container-id-1 div.sk-label label {font-family: monospace;font-weight: bold;display: inline-block;line-height: 1.2em;}#sk-container-id-1 div.sk-label-container {text-align: center;}#sk-container-id-1 div.sk-container {/* jupyter's `normalize.less` sets `[hidden] { display: none; }` but bootstrap.min.css set `[hidden] { display: none !important; }` so we also need the `!important` here to be able to override the default hidden behavior on the sphinx rendered scikit-learn.org. See: https://github.com/scikit-learn/scikit-learn/issues/21755 */display: inline-block !important;position: relative;}#sk-container-id-1 div.sk-text-repr-fallback {display: none;}</style><div id=\"sk-container-id-1\" class=\"sk-top-container\"><div class=\"sk-text-repr-fallback\"><pre>HistGradientBoostingClassifier(max_depth=3, random_state=0)</pre><b>In a Jupyter environment, please rerun this cell to show the HTML representation or trust the notebook. <br />On GitHub, the HTML representation is unable to render, please try loading this page with nbviewer.org.</b></div><div class=\"sk-container\" hidden><div class=\"sk-item\"><div class=\"sk-estimator sk-toggleable\"><input class=\"sk-toggleable__control sk-hidden--visually\" id=\"sk-estimator-id-1\" type=\"checkbox\" checked><label for=\"sk-estimator-id-1\" class=\"sk-toggleable__label sk-toggleable__label-arrow\">HistGradientBoostingClassifier</label><div class=\"sk-toggleable__content\"><pre>HistGradientBoostingClassifier(max_depth=3, random_state=0)</pre></div></div></div></div></div>"
      ],
      "text/plain": [
       "HistGradientBoostingClassifier(max_depth=3, random_state=0)"
      ]
     },
     "execution_count": 86,
     "metadata": {},
     "output_type": "execute_result"
    }
   ],
   "source": [
    "gradiente = HistGradientBoostingClassifier (max_depth= 3, random_state= 0)\n",
    "gradiente.fit(X_treino, y_treino)"
   ]
  },
  {
   "cell_type": "code",
   "execution_count": 89,
   "id": "99d5b24b",
   "metadata": {},
   "outputs": [],
   "source": [
    "#previsão do modelo\n",
    "previsao = gradiente.predict(X_valid)"
   ]
  },
  {
   "cell_type": "code",
   "execution_count": 91,
   "id": "a4bba6af",
   "metadata": {},
   "outputs": [
    {
     "name": "stdout",
     "output_type": "stream",
     "text": [
      "0.008233532934131737\n"
     ]
    }
   ],
   "source": [
    "#Acuracia\n",
    "\n",
    "Acuracia = np.mean(y_valid == previsao) \n",
    "\n",
    "print(Acuracia)"
   ]
  },
  {
   "cell_type": "markdown",
   "id": "85f3707e",
   "metadata": {},
   "source": [
    "Testando a base com as variaveis categoricas \n"
   ]
  },
  {
   "cell_type": "code",
   "execution_count": 98,
   "id": "b0b2613c",
   "metadata": {},
   "outputs": [],
   "source": [
    "df_category = df[['qtd_abertas','SGUF','NMMUN','Mecanismos_incentivo','Reducao_IPTU', 'Isencao_IPTU', 'Reducao_ISSQN','Isencao_ISSQN','Isencao_Tx',\n",
    "         'Cessao_terrenos','Doacao_terrenos','Outros_mecanismos','ISH','atividade_maior_valor_ad_bruto']]"
   ]
  },
  {
   "cell_type": "code",
   "execution_count": 99,
   "id": "59bdfad2",
   "metadata": {},
   "outputs": [],
   "source": [
    "df_get_2 = pd.get_dummies(df_category , prefix=None, prefix_sep='_', dummy_na=False, columns=None, sparse=False, drop_first=False, dtype=None)"
   ]
  },
  {
   "cell_type": "code",
   "execution_count": 100,
   "id": "231271a3",
   "metadata": {},
   "outputs": [],
   "source": [
    "df_div = np.random.rand(len(df_get_2)) < 0.8 # cria uma mascara com as posicoes\n",
    "train = df_get[df_div]\n",
    "test = df_get[~df_div]"
   ]
  },
  {
   "cell_type": "code",
   "execution_count": 101,
   "id": "3c95f6f1",
   "metadata": {},
   "outputs": [],
   "source": [
    "X = train\n",
    "y = train[\"qtd_abertas\"] \n",
    "X_test = test"
   ]
  },
  {
   "cell_type": "code",
   "execution_count": 102,
   "id": "b120efe8",
   "metadata": {},
   "outputs": [],
   "source": [
    "X = X.drop(\"qtd_abertas\", axis = 1)"
   ]
  },
  {
   "cell_type": "markdown",
   "id": "c86f530f",
   "metadata": {},
   "source": [
    "HistGradientBoostingClassifier"
   ]
  },
  {
   "cell_type": "code",
   "execution_count": 104,
   "id": "961ab9e1",
   "metadata": {},
   "outputs": [],
   "source": [
    "#separando em treino e teste\n",
    "\n",
    "X_treino, X_valid, y_treino, y_valid = train_test_split(X, y, test_size = 0.3, random_state= 0) # 30%"
   ]
  },
  {
   "cell_type": "code",
   "execution_count": 103,
   "id": "b3269b91",
   "metadata": {},
   "outputs": [
    {
     "data": {
      "text/html": [
       "<style>#sk-container-id-2 {color: black;background-color: white;}#sk-container-id-2 pre{padding: 0;}#sk-container-id-2 div.sk-toggleable {background-color: white;}#sk-container-id-2 label.sk-toggleable__label {cursor: pointer;display: block;width: 100%;margin-bottom: 0;padding: 0.3em;box-sizing: border-box;text-align: center;}#sk-container-id-2 label.sk-toggleable__label-arrow:before {content: \"▸\";float: left;margin-right: 0.25em;color: #696969;}#sk-container-id-2 label.sk-toggleable__label-arrow:hover:before {color: black;}#sk-container-id-2 div.sk-estimator:hover label.sk-toggleable__label-arrow:before {color: black;}#sk-container-id-2 div.sk-toggleable__content {max-height: 0;max-width: 0;overflow: hidden;text-align: left;background-color: #f0f8ff;}#sk-container-id-2 div.sk-toggleable__content pre {margin: 0.2em;color: black;border-radius: 0.25em;background-color: #f0f8ff;}#sk-container-id-2 input.sk-toggleable__control:checked~div.sk-toggleable__content {max-height: 200px;max-width: 100%;overflow: auto;}#sk-container-id-2 input.sk-toggleable__control:checked~label.sk-toggleable__label-arrow:before {content: \"▾\";}#sk-container-id-2 div.sk-estimator input.sk-toggleable__control:checked~label.sk-toggleable__label {background-color: #d4ebff;}#sk-container-id-2 div.sk-label input.sk-toggleable__control:checked~label.sk-toggleable__label {background-color: #d4ebff;}#sk-container-id-2 input.sk-hidden--visually {border: 0;clip: rect(1px 1px 1px 1px);clip: rect(1px, 1px, 1px, 1px);height: 1px;margin: -1px;overflow: hidden;padding: 0;position: absolute;width: 1px;}#sk-container-id-2 div.sk-estimator {font-family: monospace;background-color: #f0f8ff;border: 1px dotted black;border-radius: 0.25em;box-sizing: border-box;margin-bottom: 0.5em;}#sk-container-id-2 div.sk-estimator:hover {background-color: #d4ebff;}#sk-container-id-2 div.sk-parallel-item::after {content: \"\";width: 100%;border-bottom: 1px solid gray;flex-grow: 1;}#sk-container-id-2 div.sk-label:hover label.sk-toggleable__label {background-color: #d4ebff;}#sk-container-id-2 div.sk-serial::before {content: \"\";position: absolute;border-left: 1px solid gray;box-sizing: border-box;top: 0;bottom: 0;left: 50%;z-index: 0;}#sk-container-id-2 div.sk-serial {display: flex;flex-direction: column;align-items: center;background-color: white;padding-right: 0.2em;padding-left: 0.2em;position: relative;}#sk-container-id-2 div.sk-item {position: relative;z-index: 1;}#sk-container-id-2 div.sk-parallel {display: flex;align-items: stretch;justify-content: center;background-color: white;position: relative;}#sk-container-id-2 div.sk-item::before, #sk-container-id-2 div.sk-parallel-item::before {content: \"\";position: absolute;border-left: 1px solid gray;box-sizing: border-box;top: 0;bottom: 0;left: 50%;z-index: -1;}#sk-container-id-2 div.sk-parallel-item {display: flex;flex-direction: column;z-index: 1;position: relative;background-color: white;}#sk-container-id-2 div.sk-parallel-item:first-child::after {align-self: flex-end;width: 50%;}#sk-container-id-2 div.sk-parallel-item:last-child::after {align-self: flex-start;width: 50%;}#sk-container-id-2 div.sk-parallel-item:only-child::after {width: 0;}#sk-container-id-2 div.sk-dashed-wrapped {border: 1px dashed gray;margin: 0 0.4em 0.5em 0.4em;box-sizing: border-box;padding-bottom: 0.4em;background-color: white;}#sk-container-id-2 div.sk-label label {font-family: monospace;font-weight: bold;display: inline-block;line-height: 1.2em;}#sk-container-id-2 div.sk-label-container {text-align: center;}#sk-container-id-2 div.sk-container {/* jupyter's `normalize.less` sets `[hidden] { display: none; }` but bootstrap.min.css set `[hidden] { display: none !important; }` so we also need the `!important` here to be able to override the default hidden behavior on the sphinx rendered scikit-learn.org. See: https://github.com/scikit-learn/scikit-learn/issues/21755 */display: inline-block !important;position: relative;}#sk-container-id-2 div.sk-text-repr-fallback {display: none;}</style><div id=\"sk-container-id-2\" class=\"sk-top-container\"><div class=\"sk-text-repr-fallback\"><pre>HistGradientBoostingClassifier(max_depth=3, random_state=0)</pre><b>In a Jupyter environment, please rerun this cell to show the HTML representation or trust the notebook. <br />On GitHub, the HTML representation is unable to render, please try loading this page with nbviewer.org.</b></div><div class=\"sk-container\" hidden><div class=\"sk-item\"><div class=\"sk-estimator sk-toggleable\"><input class=\"sk-toggleable__control sk-hidden--visually\" id=\"sk-estimator-id-2\" type=\"checkbox\" checked><label for=\"sk-estimator-id-2\" class=\"sk-toggleable__label sk-toggleable__label-arrow\">HistGradientBoostingClassifier</label><div class=\"sk-toggleable__content\"><pre>HistGradientBoostingClassifier(max_depth=3, random_state=0)</pre></div></div></div></div></div>"
      ],
      "text/plain": [
       "HistGradientBoostingClassifier(max_depth=3, random_state=0)"
      ]
     },
     "execution_count": 103,
     "metadata": {},
     "output_type": "execute_result"
    }
   ],
   "source": [
    "gradiente = HistGradientBoostingClassifier (max_depth= 3, random_state= 0)\n",
    "gradiente.fit(X_treino, y_treino)"
   ]
  },
  {
   "cell_type": "code",
   "execution_count": 105,
   "id": "17923a18",
   "metadata": {},
   "outputs": [],
   "source": [
    "#previsão do modelo\n",
    "previsao = gradiente.predict(X_valid)"
   ]
  },
  {
   "cell_type": "code",
   "execution_count": 106,
   "id": "88cdf89e",
   "metadata": {},
   "outputs": [
    {
     "name": "stdout",
     "output_type": "stream",
     "text": [
      "0.016454749439042633\n"
     ]
    }
   ],
   "source": [
    "#Acuracia\n",
    "\n",
    "Acuracia = np.mean(y_valid == previsao) \n",
    "\n",
    "print(Acuracia)"
   ]
  },
  {
   "cell_type": "code",
   "execution_count": null,
   "id": "e3cb51ed",
   "metadata": {},
   "outputs": [],
   "source": []
  }
 ],
 "metadata": {
  "kernelspec": {
   "display_name": "Python 3 (ipykernel)",
   "language": "python",
   "name": "python3"
  },
  "language_info": {
   "codemirror_mode": {
    "name": "ipython",
    "version": 3
   },
   "file_extension": ".py",
   "mimetype": "text/x-python",
   "name": "python",
   "nbconvert_exporter": "python",
   "pygments_lexer": "ipython3",
   "version": "3.10.9"
  }
 },
 "nbformat": 4,
 "nbformat_minor": 5
}
