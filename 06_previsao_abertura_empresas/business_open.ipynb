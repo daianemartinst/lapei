{
 "cells": [
  {
   "cell_type": "markdown",
   "id": "efb2cf2b",
   "metadata": {},
   "source": [
    "# Can we predict business registration?"
   ]
  },
  {
   "cell_type": "code",
   "execution_count": 152,
   "id": "6a49ca2c",
   "metadata": {},
   "outputs": [],
   "source": [
    "import pandas as pd \n",
    "import numpy as np"
   ]
  },
  {
   "cell_type": "markdown",
   "id": "965b7e53",
   "metadata": {},
   "source": [
    "# Tratamentos iniciais"
   ]
  },
  {
   "cell_type": "markdown",
   "id": "d6507487",
   "metadata": {},
   "source": [
    "1) Lendo os dados "
   ]
  },
  {
   "cell_type": "code",
   "execution_count": 153,
   "id": "a93c262a",
   "metadata": {},
   "outputs": [],
   "source": [
    "df = pd.read_excel(\"Base_completa_tratada.xlsx\")"
   ]
  },
  {
   "cell_type": "markdown",
   "id": "da58e861",
   "metadata": {},
   "source": [
    "2) Selecionando as variávies que vamos utilizar"
   ]
  },
  {
   "cell_type": "code",
   "execution_count": 154,
   "id": "f242617c",
   "metadata": {},
   "outputs": [],
   "source": [
    "df = df[['qtd_abertas_Empresario_Individual','Mecanismos_incentivo','Reducao_IPTU', 'Isencao_IPTU', 'Reducao_ISSQN','Isencao_ISSQN','Isencao_Tx','Cessao_terrenos',\n",
    "    'Doacao_terrenos','Outros_mecanismos','taxa_homicidio','RH_adm_dir','ISH','densidade_banda_larga','densidade_telefonia_movel','qtd_cursos_engenharias',\n",
    "    'qtd_cursos_negocios_direito','media_notas_CN','media_notas_CH','media_NU_NOTA_LC','media_NU_NOTA_MT',\n",
    "    'media_NU_NOTA_REDACAO','valor_medio_recebido_familia','pib_per_capita_preco_corrente','perc_20_59_anos','pop_total','total_sim_tecnologia']]"
   ]
  },
  {
   "cell_type": "code",
   "execution_count": 155,
   "id": "b87b200b",
   "metadata": {},
   "outputs": [
    {
     "name": "stdout",
     "output_type": "stream",
     "text": [
      "<class 'pandas.core.frame.DataFrame'>\n",
      "RangeIndex: 5570 entries, 0 to 5569\n",
      "Data columns (total 27 columns):\n",
      " #   Column                             Non-Null Count  Dtype  \n",
      "---  ------                             --------------  -----  \n",
      " 0   qtd_abertas_Empresario_Individual  5570 non-null   int64  \n",
      " 1   Mecanismos_incentivo               5568 non-null   object \n",
      " 2   Reducao_IPTU                       3484 non-null   object \n",
      " 3   Isencao_IPTU                       3484 non-null   object \n",
      " 4   Reducao_ISSQN                      3484 non-null   object \n",
      " 5   Isencao_ISSQN                      3484 non-null   object \n",
      " 6   Isencao_Tx                         3484 non-null   object \n",
      " 7   Cessao_terrenos                    3484 non-null   object \n",
      " 8   Doacao_terrenos                    3484 non-null   object \n",
      " 9   Outros_mecanismos                  3484 non-null   object \n",
      " 10  taxa_homicidio                     3890 non-null   float64\n",
      " 11  RH_adm_dir                         5547 non-null   float64\n",
      " 12  ISH                                5570 non-null   object \n",
      " 13  densidade_banda_larga              5570 non-null   float64\n",
      " 14  densidade_telefonia_movel          5570 non-null   float64\n",
      " 15  qtd_cursos_engenharias             1193 non-null   float64\n",
      " 16  qtd_cursos_negocios_direito        2006 non-null   float64\n",
      " 17  media_notas_CN                     5479 non-null   float64\n",
      " 18  media_notas_CH                     5486 non-null   float64\n",
      " 19  media_NU_NOTA_LC                   5486 non-null   float64\n",
      " 20  media_NU_NOTA_MT                   5479 non-null   float64\n",
      " 21  media_NU_NOTA_REDACAO              5476 non-null   float64\n",
      " 22  valor_medio_recebido_familia       5570 non-null   int64  \n",
      " 23  pib_per_capita_preco_corrente      5570 non-null   float64\n",
      " 24  perc_20_59_anos                    5570 non-null   float64\n",
      " 25  pop_total                          5570 non-null   int64  \n",
      " 26  total_sim_tecnologia               5441 non-null   float64\n",
      "dtypes: float64(14), int64(3), object(10)\n",
      "memory usage: 1.1+ MB\n"
     ]
    }
   ],
   "source": [
    "df.info()"
   ]
  },
  {
   "cell_type": "markdown",
   "id": "b8b8262e",
   "metadata": {},
   "source": [
    "3) Tratamentos iniciais \n",
    "\n",
    "Transformando o nome do município no índice da tabela"
   ]
  },
  {
   "cell_type": "code",
   "execution_count": 156,
   "id": "03928619",
   "metadata": {},
   "outputs": [
    {
     "data": {
      "text/html": [
       "<div>\n",
       "<style scoped>\n",
       "    .dataframe tbody tr th:only-of-type {\n",
       "        vertical-align: middle;\n",
       "    }\n",
       "\n",
       "    .dataframe tbody tr th {\n",
       "        vertical-align: top;\n",
       "    }\n",
       "\n",
       "    .dataframe thead th {\n",
       "        text-align: right;\n",
       "    }\n",
       "</style>\n",
       "<table border=\"1\" class=\"dataframe\">\n",
       "  <thead>\n",
       "    <tr style=\"text-align: right;\">\n",
       "      <th></th>\n",
       "      <th>qtd_abertas_Empresario_Individual</th>\n",
       "      <th>Mecanismos_incentivo</th>\n",
       "      <th>Reducao_IPTU</th>\n",
       "      <th>Isencao_IPTU</th>\n",
       "      <th>Reducao_ISSQN</th>\n",
       "      <th>Isencao_ISSQN</th>\n",
       "      <th>Isencao_Tx</th>\n",
       "      <th>Cessao_terrenos</th>\n",
       "      <th>Doacao_terrenos</th>\n",
       "      <th>Outros_mecanismos</th>\n",
       "      <th>...</th>\n",
       "      <th>media_notas_CN</th>\n",
       "      <th>media_notas_CH</th>\n",
       "      <th>media_NU_NOTA_LC</th>\n",
       "      <th>media_NU_NOTA_MT</th>\n",
       "      <th>media_NU_NOTA_REDACAO</th>\n",
       "      <th>valor_medio_recebido_familia</th>\n",
       "      <th>pib_per_capita_preco_corrente</th>\n",
       "      <th>perc_20_59_anos</th>\n",
       "      <th>pop_total</th>\n",
       "      <th>total_sim_tecnologia</th>\n",
       "    </tr>\n",
       "  </thead>\n",
       "  <tbody>\n",
       "    <tr>\n",
       "      <th>0</th>\n",
       "      <td>194</td>\n",
       "      <td>Não</td>\n",
       "      <td>NaN</td>\n",
       "      <td>NaN</td>\n",
       "      <td>NaN</td>\n",
       "      <td>NaN</td>\n",
       "      <td>NaN</td>\n",
       "      <td>NaN</td>\n",
       "      <td>NaN</td>\n",
       "      <td>NaN</td>\n",
       "      <td>...</td>\n",
       "      <td>497.721951</td>\n",
       "      <td>504.034091</td>\n",
       "      <td>491.079545</td>\n",
       "      <td>543.558537</td>\n",
       "      <td>621.363636</td>\n",
       "      <td>18495</td>\n",
       "      <td>25091.18</td>\n",
       "      <td>0.587227</td>\n",
       "      <td>22516</td>\n",
       "      <td>18.0</td>\n",
       "    </tr>\n",
       "    <tr>\n",
       "      <th>1</th>\n",
       "      <td>1275</td>\n",
       "      <td>Sim</td>\n",
       "      <td>Sim</td>\n",
       "      <td>Sim</td>\n",
       "      <td>Não</td>\n",
       "      <td>Não</td>\n",
       "      <td>Sim</td>\n",
       "      <td>Não</td>\n",
       "      <td>Sim</td>\n",
       "      <td>Sim</td>\n",
       "      <td>...</td>\n",
       "      <td>474.773986</td>\n",
       "      <td>495.727950</td>\n",
       "      <td>484.710248</td>\n",
       "      <td>518.811149</td>\n",
       "      <td>584.534161</td>\n",
       "      <td>17615</td>\n",
       "      <td>25730.20</td>\n",
       "      <td>0.591797</td>\n",
       "      <td>111148</td>\n",
       "      <td>12.0</td>\n",
       "    </tr>\n",
       "    <tr>\n",
       "      <th>2</th>\n",
       "      <td>49</td>\n",
       "      <td>Sim</td>\n",
       "      <td>Não</td>\n",
       "      <td>Não</td>\n",
       "      <td>Não</td>\n",
       "      <td>Sim</td>\n",
       "      <td>Não</td>\n",
       "      <td>Não</td>\n",
       "      <td>Não</td>\n",
       "      <td>Sim</td>\n",
       "      <td>...</td>\n",
       "      <td>477.266667</td>\n",
       "      <td>486.071429</td>\n",
       "      <td>447.628571</td>\n",
       "      <td>522.883333</td>\n",
       "      <td>471.428571</td>\n",
       "      <td>18956</td>\n",
       "      <td>32226.25</td>\n",
       "      <td>0.584567</td>\n",
       "      <td>5067</td>\n",
       "      <td>8.0</td>\n",
       "    </tr>\n",
       "    <tr>\n",
       "      <th>3</th>\n",
       "      <td>1258</td>\n",
       "      <td>Sim</td>\n",
       "      <td>Não</td>\n",
       "      <td>Sim</td>\n",
       "      <td>Sim</td>\n",
       "      <td>Não</td>\n",
       "      <td>Sim</td>\n",
       "      <td>Sim</td>\n",
       "      <td>Sim</td>\n",
       "      <td>Não</td>\n",
       "      <td>...</td>\n",
       "      <td>489.744000</td>\n",
       "      <td>505.006061</td>\n",
       "      <td>490.991919</td>\n",
       "      <td>533.458933</td>\n",
       "      <td>611.717172</td>\n",
       "      <td>19376</td>\n",
       "      <td>29331.29</td>\n",
       "      <td>0.595584</td>\n",
       "      <td>86416</td>\n",
       "      <td>17.0</td>\n",
       "    </tr>\n",
       "    <tr>\n",
       "      <th>4</th>\n",
       "      <td>257</td>\n",
       "      <td>Sim</td>\n",
       "      <td>Não</td>\n",
       "      <td>Sim</td>\n",
       "      <td>Não</td>\n",
       "      <td>Não</td>\n",
       "      <td>Não</td>\n",
       "      <td>Não</td>\n",
       "      <td>Não</td>\n",
       "      <td>Não</td>\n",
       "      <td>...</td>\n",
       "      <td>479.268750</td>\n",
       "      <td>477.045714</td>\n",
       "      <td>454.722857</td>\n",
       "      <td>480.696875</td>\n",
       "      <td>576.571429</td>\n",
       "      <td>17752</td>\n",
       "      <td>37069.25</td>\n",
       "      <td>0.598272</td>\n",
       "      <td>16088</td>\n",
       "      <td>8.0</td>\n",
       "    </tr>\n",
       "  </tbody>\n",
       "</table>\n",
       "<p>5 rows × 27 columns</p>\n",
       "</div>"
      ],
      "text/plain": [
       "   qtd_abertas_Empresario_Individual Mecanismos_incentivo Reducao_IPTU  \\\n",
       "0                                194                  Não          NaN   \n",
       "1                               1275                  Sim          Sim   \n",
       "2                                 49                  Sim          Não   \n",
       "3                               1258                  Sim          Não   \n",
       "4                                257                  Sim          Não   \n",
       "\n",
       "  Isencao_IPTU Reducao_ISSQN Isencao_ISSQN Isencao_Tx Cessao_terrenos  \\\n",
       "0          NaN           NaN           NaN        NaN             NaN   \n",
       "1          Sim           Não           Não        Sim             Não   \n",
       "2          Não           Não           Sim        Não             Não   \n",
       "3          Sim           Sim           Não        Sim             Sim   \n",
       "4          Sim           Não           Não        Não             Não   \n",
       "\n",
       "  Doacao_terrenos Outros_mecanismos  ...  media_notas_CN  media_notas_CH  \\\n",
       "0             NaN               NaN  ...      497.721951      504.034091   \n",
       "1             Sim               Sim  ...      474.773986      495.727950   \n",
       "2             Não               Sim  ...      477.266667      486.071429   \n",
       "3             Sim               Não  ...      489.744000      505.006061   \n",
       "4             Não               Não  ...      479.268750      477.045714   \n",
       "\n",
       "  media_NU_NOTA_LC  media_NU_NOTA_MT  media_NU_NOTA_REDACAO  \\\n",
       "0       491.079545        543.558537             621.363636   \n",
       "1       484.710248        518.811149             584.534161   \n",
       "2       447.628571        522.883333             471.428571   \n",
       "3       490.991919        533.458933             611.717172   \n",
       "4       454.722857        480.696875             576.571429   \n",
       "\n",
       "   valor_medio_recebido_familia  pib_per_capita_preco_corrente  \\\n",
       "0                         18495                       25091.18   \n",
       "1                         17615                       25730.20   \n",
       "2                         18956                       32226.25   \n",
       "3                         19376                       29331.29   \n",
       "4                         17752                       37069.25   \n",
       "\n",
       "   perc_20_59_anos  pop_total  total_sim_tecnologia  \n",
       "0         0.587227      22516                  18.0  \n",
       "1         0.591797     111148                  12.0  \n",
       "2         0.584567       5067                   8.0  \n",
       "3         0.595584      86416                  17.0  \n",
       "4         0.598272      16088                   8.0  \n",
       "\n",
       "[5 rows x 27 columns]"
      ]
     },
     "execution_count": 156,
     "metadata": {},
     "output_type": "execute_result"
    }
   ],
   "source": [
    "#df = df.set_index('NMMUN')\n",
    "df.head()"
   ]
  },
  {
   "cell_type": "markdown",
   "id": "f46394d5",
   "metadata": {},
   "source": [
    "Vamos fazer alguns tratamentos para algumas variáveis. \n",
    "- Nas variáveis sobre taxa de homicídios, cursos de engenharia ou negócios/direito, vamos transformar os \"NA\" em 0\n",
    "- Nas variáveis de políticas municipais, adicionamos \"Não\" aos \"NA\"\n",
    "- Nas variáveis do Enem, substituímos o valor pela mediana"
   ]
  },
  {
   "cell_type": "code",
   "execution_count": 157,
   "id": "4532983f",
   "metadata": {},
   "outputs": [],
   "source": [
    "df['qtd_cursos_engenharias'] = df['qtd_cursos_engenharias'].fillna(0)\n",
    "\n",
    "df['qtd_cursos_negocios_direito'] = df['qtd_cursos_negocios_direito'].fillna(0)\n",
    "\n",
    "df['total_sim_tecnologia'] = df['total_sim_tecnologia'].fillna(0)\n",
    "\n",
    "df['taxa_homicidio'] = df['taxa_homicidio'].fillna(0)"
   ]
  },
  {
   "cell_type": "code",
   "execution_count": 158,
   "id": "5626c66e",
   "metadata": {},
   "outputs": [],
   "source": [
    "df[['Mecanismos_incentivo','Reducao_IPTU', 'Isencao_IPTU', 'Reducao_ISSQN','Isencao_ISSQN','Isencao_Tx','Cessao_terrenos',\n",
    "    'Doacao_terrenos','Outros_mecanismos']] = df[['Mecanismos_incentivo','Reducao_IPTU', 'Isencao_IPTU', 'Reducao_ISSQN','Isencao_ISSQN','Isencao_Tx','Cessao_terrenos',\n",
    "    'Doacao_terrenos','Outros_mecanismos']].fillna('Não')"
   ]
  },
  {
   "cell_type": "code",
   "execution_count": 159,
   "id": "5e6622ab",
   "metadata": {},
   "outputs": [],
   "source": [
    "df[['media_notas_CN','media_notas_CH','media_NU_NOTA_LC','media_NU_NOTA_MT',\n",
    "    'media_NU_NOTA_REDACAO']] = df[['media_notas_CN','media_notas_CH','media_NU_NOTA_LC','media_NU_NOTA_MT',\n",
    "    'media_NU_NOTA_REDACAO']].fillna(df[['media_notas_CN','media_notas_CH','media_NU_NOTA_LC','media_NU_NOTA_MT',\n",
    "    'media_NU_NOTA_REDACAO']].median())\n"
   ]
  },
  {
   "cell_type": "code",
   "execution_count": 160,
   "id": "998b8cd3",
   "metadata": {},
   "outputs": [],
   "source": [
    "df = pd.get_dummies(df, drop_first=True)"
   ]
  },
  {
   "cell_type": "code",
   "execution_count": 172,
   "id": "d99dc625",
   "metadata": {},
   "outputs": [],
   "source": [
    "df = df[np.isfinite(df).all(1)]"
   ]
  },
  {
   "cell_type": "code",
   "execution_count": 161,
   "id": "996fcb37",
   "metadata": {},
   "outputs": [
    {
     "name": "stdout",
     "output_type": "stream",
     "text": [
      "<class 'pandas.core.frame.DataFrame'>\n",
      "RangeIndex: 5570 entries, 0 to 5569\n",
      "Data columns (total 30 columns):\n",
      " #   Column                             Non-Null Count  Dtype  \n",
      "---  ------                             --------------  -----  \n",
      " 0   qtd_abertas_Empresario_Individual  5570 non-null   int64  \n",
      " 1   taxa_homicidio                     5570 non-null   float64\n",
      " 2   RH_adm_dir                         5547 non-null   float64\n",
      " 3   densidade_banda_larga              5570 non-null   float64\n",
      " 4   densidade_telefonia_movel          5570 non-null   float64\n",
      " 5   qtd_cursos_engenharias             5570 non-null   float64\n",
      " 6   qtd_cursos_negocios_direito        5570 non-null   float64\n",
      " 7   media_notas_CN                     5570 non-null   float64\n",
      " 8   media_notas_CH                     5570 non-null   float64\n",
      " 9   media_NU_NOTA_LC                   5570 non-null   float64\n",
      " 10  media_NU_NOTA_MT                   5570 non-null   float64\n",
      " 11  media_NU_NOTA_REDACAO              5570 non-null   float64\n",
      " 12  valor_medio_recebido_familia       5570 non-null   int64  \n",
      " 13  pib_per_capita_preco_corrente      5570 non-null   float64\n",
      " 14  perc_20_59_anos                    5570 non-null   float64\n",
      " 15  pop_total                          5570 non-null   int64  \n",
      " 16  total_sim_tecnologia               5570 non-null   float64\n",
      " 17  Mecanismos_incentivo_Sim           5570 non-null   uint8  \n",
      " 18  Reducao_IPTU_Sim                   5570 non-null   uint8  \n",
      " 19  Isencao_IPTU_Sim                   5570 non-null   uint8  \n",
      " 20  Reducao_ISSQN_Sim                  5570 non-null   uint8  \n",
      " 21  Isencao_ISSQN_Sim                  5570 non-null   uint8  \n",
      " 22  Isencao_Tx_Sim                     5570 non-null   uint8  \n",
      " 23  Cessao_terrenos_Sim                5570 non-null   uint8  \n",
      " 24  Doacao_terrenos_Sim                5570 non-null   uint8  \n",
      " 25  Outros_mecanismos_Sim              5570 non-null   uint8  \n",
      " 26  ISH_Baixa                          5570 non-null   uint8  \n",
      " 27  ISH_Máxima                         5570 non-null   uint8  \n",
      " 28  ISH_Média                          5570 non-null   uint8  \n",
      " 29  ISH_Mínima                         5570 non-null   uint8  \n",
      "dtypes: float64(14), int64(3), uint8(13)\n",
      "memory usage: 810.6 KB\n"
     ]
    }
   ],
   "source": [
    "df.info()"
   ]
  },
  {
   "cell_type": "markdown",
   "id": "2dcc2c98",
   "metadata": {},
   "source": [
    "4) Separando variável dependente e variáveis independentes "
   ]
  },
  {
   "cell_type": "code",
   "execution_count": 173,
   "id": "defc9cb5",
   "metadata": {},
   "outputs": [],
   "source": [
    "X = df.drop('qtd_abertas_Empresario_Individual', axis = 1)\n",
    "y = df['qtd_abertas_Empresario_Individual']"
   ]
  },
  {
   "cell_type": "code",
   "execution_count": 163,
   "id": "c40c8c70",
   "metadata": {},
   "outputs": [],
   "source": [
    "# Não entendi pq vc está fazendo esse procedimento. Não tem necessidade. O train_test_split já serve para isso \n",
    "#df_div = np.random.rand(len(df_get)) < 0.8 # cria uma mascara com as posicoes\n",
    "#train = df_get[df_div]\n",
    "#test = df_get[~df_div]"
   ]
  },
  {
   "cell_type": "code",
   "execution_count": 164,
   "id": "3e499bcb",
   "metadata": {},
   "outputs": [],
   "source": [
    "#X = train\n",
    "#y = train[\"qtd_abertas\"] \n",
    "#X_test = test"
   ]
  },
  {
   "cell_type": "code",
   "execution_count": 165,
   "id": "9824fbc3",
   "metadata": {},
   "outputs": [],
   "source": [
    "#X = X.drop(\"qtd_abertas\", axis = 1)"
   ]
  },
  {
   "cell_type": "markdown",
   "id": "8634e0ba",
   "metadata": {},
   "source": [
    "# Rodando algoritmos"
   ]
  },
  {
   "cell_type": "code",
   "execution_count": 195,
   "id": "da9030e8",
   "metadata": {},
   "outputs": [],
   "source": [
    "from sklearn.preprocessing import StandardScaler\n",
    "from sklearn.model_selection import train_test_split, GridSearchCV\n",
    "from sklearn.preprocessing import StandardScaler, OneHotEncoder\n",
    "from sklearn.linear_model import LinearRegression\n",
    "from sklearn.metrics import mean_absolute_error, mean_absolute_percentage_error, mean_squared_error"
   ]
  },
  {
   "cell_type": "code",
   "execution_count": 174,
   "id": "812463ee",
   "metadata": {},
   "outputs": [],
   "source": [
    "X_train, X_test, y_train, y_test = train_test_split(X, y, test_size=0.35,\n",
    "                                                    random_state=42)\n",
    "\n",
    "# vamos criar uma variável para região do município para usar no stratify. Eu tentei usar a variável SGUF, mas como \n",
    "# DF só tem um caso, ele não deixou eu aplicar"
   ]
  },
  {
   "cell_type": "code",
   "execution_count": 175,
   "id": "d47dae07",
   "metadata": {},
   "outputs": [
    {
     "data": {
      "text/plain": [
       "['taxa_homicidio',\n",
       " 'RH_adm_dir',\n",
       " 'densidade_banda_larga',\n",
       " 'densidade_telefonia_movel',\n",
       " 'qtd_cursos_engenharias',\n",
       " 'qtd_cursos_negocios_direito',\n",
       " 'media_notas_CN',\n",
       " 'media_notas_CH',\n",
       " 'media_NU_NOTA_LC',\n",
       " 'media_NU_NOTA_MT',\n",
       " 'media_NU_NOTA_REDACAO',\n",
       " 'valor_medio_recebido_familia',\n",
       " 'pib_per_capita_preco_corrente',\n",
       " 'perc_20_59_anos',\n",
       " 'pop_total',\n",
       " 'total_sim_tecnologia']"
      ]
     },
     "execution_count": 175,
     "metadata": {},
     "output_type": "execute_result"
    }
   ],
   "source": [
    "list(X_train.select_dtypes(include = ['float64','int64']))"
   ]
  },
  {
   "cell_type": "code",
   "execution_count": 176,
   "id": "fa07d634",
   "metadata": {},
   "outputs": [
    {
     "data": {
      "text/html": [
       "<div>\n",
       "<style scoped>\n",
       "    .dataframe tbody tr th:only-of-type {\n",
       "        vertical-align: middle;\n",
       "    }\n",
       "\n",
       "    .dataframe tbody tr th {\n",
       "        vertical-align: top;\n",
       "    }\n",
       "\n",
       "    .dataframe thead th {\n",
       "        text-align: right;\n",
       "    }\n",
       "</style>\n",
       "<table border=\"1\" class=\"dataframe\">\n",
       "  <thead>\n",
       "    <tr style=\"text-align: right;\">\n",
       "      <th></th>\n",
       "      <th>taxa_homicidio</th>\n",
       "      <th>RH_adm_dir</th>\n",
       "      <th>densidade_banda_larga</th>\n",
       "      <th>densidade_telefonia_movel</th>\n",
       "      <th>qtd_cursos_engenharias</th>\n",
       "      <th>qtd_cursos_negocios_direito</th>\n",
       "      <th>media_notas_CN</th>\n",
       "      <th>media_notas_CH</th>\n",
       "      <th>media_NU_NOTA_LC</th>\n",
       "      <th>media_NU_NOTA_MT</th>\n",
       "      <th>...</th>\n",
       "      <th>Reducao_ISSQN_Sim</th>\n",
       "      <th>Isencao_ISSQN_Sim</th>\n",
       "      <th>Isencao_Tx_Sim</th>\n",
       "      <th>Cessao_terrenos_Sim</th>\n",
       "      <th>Doacao_terrenos_Sim</th>\n",
       "      <th>Outros_mecanismos_Sim</th>\n",
       "      <th>ISH_Baixa</th>\n",
       "      <th>ISH_Máxima</th>\n",
       "      <th>ISH_Média</th>\n",
       "      <th>ISH_Mínima</th>\n",
       "    </tr>\n",
       "  </thead>\n",
       "  <tbody>\n",
       "    <tr>\n",
       "      <th>869</th>\n",
       "      <td>-0.243556</td>\n",
       "      <td>-0.309291</td>\n",
       "      <td>-0.886375</td>\n",
       "      <td>-0.322067</td>\n",
       "      <td>-0.089636</td>\n",
       "      <td>-0.079327</td>\n",
       "      <td>-1.517821</td>\n",
       "      <td>-2.027806</td>\n",
       "      <td>-2.072030</td>\n",
       "      <td>-1.815449</td>\n",
       "      <td>...</td>\n",
       "      <td>0</td>\n",
       "      <td>0</td>\n",
       "      <td>0</td>\n",
       "      <td>0</td>\n",
       "      <td>0</td>\n",
       "      <td>0</td>\n",
       "      <td>0</td>\n",
       "      <td>0</td>\n",
       "      <td>1</td>\n",
       "      <td>0</td>\n",
       "    </tr>\n",
       "    <tr>\n",
       "      <th>1223</th>\n",
       "      <td>-0.243556</td>\n",
       "      <td>-0.282632</td>\n",
       "      <td>-1.078951</td>\n",
       "      <td>-0.667171</td>\n",
       "      <td>-0.089636</td>\n",
       "      <td>-0.079327</td>\n",
       "      <td>0.479304</td>\n",
       "      <td>0.331024</td>\n",
       "      <td>0.844911</td>\n",
       "      <td>-0.345687</td>\n",
       "      <td>...</td>\n",
       "      <td>0</td>\n",
       "      <td>0</td>\n",
       "      <td>0</td>\n",
       "      <td>0</td>\n",
       "      <td>0</td>\n",
       "      <td>0</td>\n",
       "      <td>0</td>\n",
       "      <td>0</td>\n",
       "      <td>0</td>\n",
       "      <td>0</td>\n",
       "    </tr>\n",
       "    <tr>\n",
       "      <th>1414</th>\n",
       "      <td>-0.211621</td>\n",
       "      <td>-0.237213</td>\n",
       "      <td>-1.033721</td>\n",
       "      <td>-1.182348</td>\n",
       "      <td>-0.089636</td>\n",
       "      <td>-0.079327</td>\n",
       "      <td>-1.210267</td>\n",
       "      <td>-1.497413</td>\n",
       "      <td>-1.778589</td>\n",
       "      <td>-0.792296</td>\n",
       "      <td>...</td>\n",
       "      <td>0</td>\n",
       "      <td>0</td>\n",
       "      <td>1</td>\n",
       "      <td>0</td>\n",
       "      <td>0</td>\n",
       "      <td>0</td>\n",
       "      <td>0</td>\n",
       "      <td>0</td>\n",
       "      <td>1</td>\n",
       "      <td>0</td>\n",
       "    </tr>\n",
       "    <tr>\n",
       "      <th>3631</th>\n",
       "      <td>-0.243556</td>\n",
       "      <td>-0.261239</td>\n",
       "      <td>0.638662</td>\n",
       "      <td>0.966549</td>\n",
       "      <td>-0.089636</td>\n",
       "      <td>-0.079327</td>\n",
       "      <td>1.591120</td>\n",
       "      <td>1.265923</td>\n",
       "      <td>1.064882</td>\n",
       "      <td>-0.130288</td>\n",
       "      <td>...</td>\n",
       "      <td>0</td>\n",
       "      <td>0</td>\n",
       "      <td>0</td>\n",
       "      <td>0</td>\n",
       "      <td>0</td>\n",
       "      <td>0</td>\n",
       "      <td>0</td>\n",
       "      <td>1</td>\n",
       "      <td>0</td>\n",
       "      <td>0</td>\n",
       "    </tr>\n",
       "    <tr>\n",
       "      <th>410</th>\n",
       "      <td>-0.179686</td>\n",
       "      <td>-0.203972</td>\n",
       "      <td>-0.734349</td>\n",
       "      <td>-1.575174</td>\n",
       "      <td>-0.089636</td>\n",
       "      <td>-0.079327</td>\n",
       "      <td>-1.405162</td>\n",
       "      <td>-1.098686</td>\n",
       "      <td>-1.234158</td>\n",
       "      <td>-1.035150</td>\n",
       "      <td>...</td>\n",
       "      <td>0</td>\n",
       "      <td>0</td>\n",
       "      <td>0</td>\n",
       "      <td>0</td>\n",
       "      <td>0</td>\n",
       "      <td>0</td>\n",
       "      <td>0</td>\n",
       "      <td>0</td>\n",
       "      <td>0</td>\n",
       "      <td>0</td>\n",
       "    </tr>\n",
       "  </tbody>\n",
       "</table>\n",
       "<p>5 rows × 29 columns</p>\n",
       "</div>"
      ],
      "text/plain": [
       "      taxa_homicidio  RH_adm_dir  densidade_banda_larga  \\\n",
       "869        -0.243556   -0.309291              -0.886375   \n",
       "1223       -0.243556   -0.282632              -1.078951   \n",
       "1414       -0.211621   -0.237213              -1.033721   \n",
       "3631       -0.243556   -0.261239               0.638662   \n",
       "410        -0.179686   -0.203972              -0.734349   \n",
       "\n",
       "      densidade_telefonia_movel  qtd_cursos_engenharias  \\\n",
       "869                   -0.322067               -0.089636   \n",
       "1223                  -0.667171               -0.089636   \n",
       "1414                  -1.182348               -0.089636   \n",
       "3631                   0.966549               -0.089636   \n",
       "410                   -1.575174               -0.089636   \n",
       "\n",
       "      qtd_cursos_negocios_direito  media_notas_CN  media_notas_CH  \\\n",
       "869                     -0.079327       -1.517821       -2.027806   \n",
       "1223                    -0.079327        0.479304        0.331024   \n",
       "1414                    -0.079327       -1.210267       -1.497413   \n",
       "3631                    -0.079327        1.591120        1.265923   \n",
       "410                     -0.079327       -1.405162       -1.098686   \n",
       "\n",
       "      media_NU_NOTA_LC  media_NU_NOTA_MT  ...  Reducao_ISSQN_Sim  \\\n",
       "869          -2.072030         -1.815449  ...                  0   \n",
       "1223          0.844911         -0.345687  ...                  0   \n",
       "1414         -1.778589         -0.792296  ...                  0   \n",
       "3631          1.064882         -0.130288  ...                  0   \n",
       "410          -1.234158         -1.035150  ...                  0   \n",
       "\n",
       "      Isencao_ISSQN_Sim  Isencao_Tx_Sim  Cessao_terrenos_Sim  \\\n",
       "869                   0               0                    0   \n",
       "1223                  0               0                    0   \n",
       "1414                  0               1                    0   \n",
       "3631                  0               0                    0   \n",
       "410                   0               0                    0   \n",
       "\n",
       "      Doacao_terrenos_Sim  Outros_mecanismos_Sim  ISH_Baixa  ISH_Máxima  \\\n",
       "869                     0                      0          0           0   \n",
       "1223                    0                      0          0           0   \n",
       "1414                    0                      0          0           0   \n",
       "3631                    0                      0          0           1   \n",
       "410                     0                      0          0           0   \n",
       "\n",
       "      ISH_Média  ISH_Mínima  \n",
       "869           1           0  \n",
       "1223          0           0  \n",
       "1414          1           0  \n",
       "3631          0           0  \n",
       "410           0           0  \n",
       "\n",
       "[5 rows x 29 columns]"
      ]
     },
     "execution_count": 176,
     "metadata": {},
     "output_type": "execute_result"
    }
   ],
   "source": [
    "# https://stackoverflow.com/questions/48673402/how-can-i-standardize-only-numeric-variables-in-an-sklearn-pipeline\n",
    "# criei esse procedimento para padronizar o valor das variáveis \n",
    "\n",
    "scaler = StandardScaler()\n",
    "\n",
    "numeric_features = list(X_train.select_dtypes(include = ['float64','int64']))\n",
    "\n",
    "X_train.loc[:,numeric_features] = scaler.fit_transform(X_train.loc[:,numeric_features])\n",
    "\n",
    "X_train.head()"
   ]
  },
  {
   "cell_type": "markdown",
   "id": "22825ccf",
   "metadata": {},
   "source": [
    "### 1) Regressão linear"
   ]
  },
  {
   "cell_type": "code",
   "execution_count": 186,
   "id": "ab7fec77",
   "metadata": {},
   "outputs": [],
   "source": [
    "reg = LinearRegression().fit(X_train, y_train)"
   ]
  },
  {
   "cell_type": "code",
   "execution_count": 187,
   "id": "c77b6863",
   "metadata": {},
   "outputs": [],
   "source": [
    "y_pred = reg.predict(X_test)"
   ]
  },
  {
   "cell_type": "code",
   "execution_count": 188,
   "id": "1bcaf0ec",
   "metadata": {},
   "outputs": [],
   "source": [
    "mae_rl = mean_absolute_error(y_true=y_test,y_pred=y_pred)"
   ]
  },
  {
   "cell_type": "code",
   "execution_count": 189,
   "id": "e1fe32c0",
   "metadata": {},
   "outputs": [],
   "source": [
    "mape_rl = mean_absolute_percentage_error(y_true=y_test,y_pred=y_pred)"
   ]
  },
  {
   "cell_type": "code",
   "execution_count": 200,
   "id": "7811705a",
   "metadata": {},
   "outputs": [],
   "source": [
    "rmse_rl = mean_squared_error(y_true=y_test,y_pred=y_pred,squared=False)"
   ]
  },
  {
   "cell_type": "code",
   "execution_count": 201,
   "id": "cbf2668f",
   "metadata": {},
   "outputs": [
    {
     "name": "stdout",
     "output_type": "stream",
     "text": [
      "MAE: 105078850.38454518\n",
      "MAPE: 469145.5971097201\n",
      "RMSE: 446048550.2311395\n"
     ]
    }
   ],
   "source": [
    "print(\"MAE:\",mae_rl)\n",
    "print(\"MAPE:\",mape_rl)\n",
    "print(\"RMSE:\",rmse_rl)"
   ]
  },
  {
   "cell_type": "markdown",
   "id": "728ca47f",
   "metadata": {},
   "source": [
    "Floresta Aleatória - Classificação"
   ]
  },
  {
   "cell_type": "code",
   "execution_count": 72,
   "id": "86c77e5e",
   "metadata": {},
   "outputs": [],
   "source": [
    "#bibliotecas Floresta aleatória \n",
    "from  sklearn.ensemble  import RandomForestClassifier \n",
    "\n",
    "from sklearn.model_selection import train_test_split\n"
   ]
  },
  {
   "cell_type": "code",
   "execution_count": 73,
   "id": "3cb9c115",
   "metadata": {},
   "outputs": [],
   "source": [
    "#Separando em treino e teste\n",
    "\n",
    "X_treino, X_valid, y_treino, y_valid = train_test_split(X, y, test_size = 0.3, random_state= 0) # 30%"
   ]
  },
  {
   "cell_type": "code",
   "execution_count": null,
   "id": "e06d6296",
   "metadata": {},
   "outputs": [],
   "source": [
    "#floresta aleatória - Classificação \n",
    "\n",
    "modelo_floresta_aleatoria = RandomForestClassifier(n_estimators=1000,random_state = 0) \n",
    "\n",
    "modelo_floresta_aleatoria.fit (X_treino, y_treino)\n",
    "\n",
    "\n",
    "#RandomForestClassifier não aceita valores ausentes identificados como NA"
   ]
  },
  {
   "cell_type": "code",
   "execution_count": null,
   "id": "ac21102f",
   "metadata": {},
   "outputs": [],
   "source": [
    "#previsão do modelo\n",
    "#previsao = modelo_floresta_aleatoria.predict(X_valid)"
   ]
  },
  {
   "cell_type": "code",
   "execution_count": null,
   "id": "bf6fe05b",
   "metadata": {},
   "outputs": [],
   "source": [
    "#Acuracia\n",
    "\n",
    "#Acuracia = np.mean(y_valid == previsao) \n",
    "\n",
    "#print(Acuracia)"
   ]
  },
  {
   "cell_type": "markdown",
   "id": "236ba443",
   "metadata": {},
   "source": [
    "Arvore de Decisão - Regressão"
   ]
  },
  {
   "cell_type": "code",
   "execution_count": 81,
   "id": "c286679e",
   "metadata": {},
   "outputs": [],
   "source": [
    "#biblioteca - Arvore de Decisão (regressão)\n",
    "\n",
    "from sklearn.model_selection import train_test_split\n",
    "from sklearn.tree import DecisionTreeRegressor, plot_tree\n",
    "from sklearn.tree import DecisionTreeRegressor\n",
    "from sklearn.metrics import mean_squared_error"
   ]
  },
  {
   "cell_type": "code",
   "execution_count": 82,
   "id": "7c2c0691",
   "metadata": {},
   "outputs": [],
   "source": [
    "#separando em treino e teste\n",
    "\n",
    "X_treino, X_valid, y_treino, y_valid = train_test_split(X, y, test_size = 0.3, random_state= 0) # 30%"
   ]
  },
  {
   "cell_type": "code",
   "execution_count": null,
   "id": "8efbc9e4",
   "metadata": {},
   "outputs": [],
   "source": [
    "#max_depth = quantidade de divisões\n",
    "\n",
    "arvore_decisao = DecisionTreeRegressor( max_depth= 3, random_state= 0) #OUTRO PARAMENTO -> min_samples_leaf\n",
    "arvore_decisao.fit(X_treino, y_treino)"
   ]
  },
  {
   "cell_type": "code",
   "execution_count": null,
   "id": "43019990",
   "metadata": {},
   "outputs": [],
   "source": [
    "#pred_arv_decisao = arvore_decisao.predict(X_valid)\n",
    "\n",
    "#np.sqrt (mean_squared_error (y_valid, pred_arv_decisao))"
   ]
  },
  {
   "cell_type": "markdown",
   "id": "70e2109e",
   "metadata": {},
   "source": [
    "Testando o  HistGradientBoostingClassifier\n"
   ]
  },
  {
   "cell_type": "code",
   "execution_count": 84,
   "id": "30c49eaf",
   "metadata": {},
   "outputs": [],
   "source": [
    "from sklearn.ensemble import HistGradientBoostingClassifier"
   ]
  },
  {
   "cell_type": "code",
   "execution_count": 86,
   "id": "2924b4d9",
   "metadata": {},
   "outputs": [
    {
     "data": {
      "text/html": [
       "<style>#sk-container-id-1 {color: black;background-color: white;}#sk-container-id-1 pre{padding: 0;}#sk-container-id-1 div.sk-toggleable {background-color: white;}#sk-container-id-1 label.sk-toggleable__label {cursor: pointer;display: block;width: 100%;margin-bottom: 0;padding: 0.3em;box-sizing: border-box;text-align: center;}#sk-container-id-1 label.sk-toggleable__label-arrow:before {content: \"▸\";float: left;margin-right: 0.25em;color: #696969;}#sk-container-id-1 label.sk-toggleable__label-arrow:hover:before {color: black;}#sk-container-id-1 div.sk-estimator:hover label.sk-toggleable__label-arrow:before {color: black;}#sk-container-id-1 div.sk-toggleable__content {max-height: 0;max-width: 0;overflow: hidden;text-align: left;background-color: #f0f8ff;}#sk-container-id-1 div.sk-toggleable__content pre {margin: 0.2em;color: black;border-radius: 0.25em;background-color: #f0f8ff;}#sk-container-id-1 input.sk-toggleable__control:checked~div.sk-toggleable__content {max-height: 200px;max-width: 100%;overflow: auto;}#sk-container-id-1 input.sk-toggleable__control:checked~label.sk-toggleable__label-arrow:before {content: \"▾\";}#sk-container-id-1 div.sk-estimator input.sk-toggleable__control:checked~label.sk-toggleable__label {background-color: #d4ebff;}#sk-container-id-1 div.sk-label input.sk-toggleable__control:checked~label.sk-toggleable__label {background-color: #d4ebff;}#sk-container-id-1 input.sk-hidden--visually {border: 0;clip: rect(1px 1px 1px 1px);clip: rect(1px, 1px, 1px, 1px);height: 1px;margin: -1px;overflow: hidden;padding: 0;position: absolute;width: 1px;}#sk-container-id-1 div.sk-estimator {font-family: monospace;background-color: #f0f8ff;border: 1px dotted black;border-radius: 0.25em;box-sizing: border-box;margin-bottom: 0.5em;}#sk-container-id-1 div.sk-estimator:hover {background-color: #d4ebff;}#sk-container-id-1 div.sk-parallel-item::after {content: \"\";width: 100%;border-bottom: 1px solid gray;flex-grow: 1;}#sk-container-id-1 div.sk-label:hover label.sk-toggleable__label {background-color: #d4ebff;}#sk-container-id-1 div.sk-serial::before {content: \"\";position: absolute;border-left: 1px solid gray;box-sizing: border-box;top: 0;bottom: 0;left: 50%;z-index: 0;}#sk-container-id-1 div.sk-serial {display: flex;flex-direction: column;align-items: center;background-color: white;padding-right: 0.2em;padding-left: 0.2em;position: relative;}#sk-container-id-1 div.sk-item {position: relative;z-index: 1;}#sk-container-id-1 div.sk-parallel {display: flex;align-items: stretch;justify-content: center;background-color: white;position: relative;}#sk-container-id-1 div.sk-item::before, #sk-container-id-1 div.sk-parallel-item::before {content: \"\";position: absolute;border-left: 1px solid gray;box-sizing: border-box;top: 0;bottom: 0;left: 50%;z-index: -1;}#sk-container-id-1 div.sk-parallel-item {display: flex;flex-direction: column;z-index: 1;position: relative;background-color: white;}#sk-container-id-1 div.sk-parallel-item:first-child::after {align-self: flex-end;width: 50%;}#sk-container-id-1 div.sk-parallel-item:last-child::after {align-self: flex-start;width: 50%;}#sk-container-id-1 div.sk-parallel-item:only-child::after {width: 0;}#sk-container-id-1 div.sk-dashed-wrapped {border: 1px dashed gray;margin: 0 0.4em 0.5em 0.4em;box-sizing: border-box;padding-bottom: 0.4em;background-color: white;}#sk-container-id-1 div.sk-label label {font-family: monospace;font-weight: bold;display: inline-block;line-height: 1.2em;}#sk-container-id-1 div.sk-label-container {text-align: center;}#sk-container-id-1 div.sk-container {/* jupyter's `normalize.less` sets `[hidden] { display: none; }` but bootstrap.min.css set `[hidden] { display: none !important; }` so we also need the `!important` here to be able to override the default hidden behavior on the sphinx rendered scikit-learn.org. See: https://github.com/scikit-learn/scikit-learn/issues/21755 */display: inline-block !important;position: relative;}#sk-container-id-1 div.sk-text-repr-fallback {display: none;}</style><div id=\"sk-container-id-1\" class=\"sk-top-container\"><div class=\"sk-text-repr-fallback\"><pre>HistGradientBoostingClassifier(max_depth=3, random_state=0)</pre><b>In a Jupyter environment, please rerun this cell to show the HTML representation or trust the notebook. <br />On GitHub, the HTML representation is unable to render, please try loading this page with nbviewer.org.</b></div><div class=\"sk-container\" hidden><div class=\"sk-item\"><div class=\"sk-estimator sk-toggleable\"><input class=\"sk-toggleable__control sk-hidden--visually\" id=\"sk-estimator-id-1\" type=\"checkbox\" checked><label for=\"sk-estimator-id-1\" class=\"sk-toggleable__label sk-toggleable__label-arrow\">HistGradientBoostingClassifier</label><div class=\"sk-toggleable__content\"><pre>HistGradientBoostingClassifier(max_depth=3, random_state=0)</pre></div></div></div></div></div>"
      ],
      "text/plain": [
       "HistGradientBoostingClassifier(max_depth=3, random_state=0)"
      ]
     },
     "execution_count": 86,
     "metadata": {},
     "output_type": "execute_result"
    }
   ],
   "source": [
    "gradiente = HistGradientBoostingClassifier (max_depth= 3, random_state= 0)\n",
    "gradiente.fit(X_treino, y_treino)"
   ]
  },
  {
   "cell_type": "code",
   "execution_count": 89,
   "id": "99d5b24b",
   "metadata": {},
   "outputs": [],
   "source": [
    "#previsão do modelo\n",
    "previsao = gradiente.predict(X_valid)"
   ]
  },
  {
   "cell_type": "code",
   "execution_count": 91,
   "id": "a4bba6af",
   "metadata": {},
   "outputs": [
    {
     "name": "stdout",
     "output_type": "stream",
     "text": [
      "0.008233532934131737\n"
     ]
    }
   ],
   "source": [
    "#Acuracia\n",
    "\n",
    "Acuracia = np.mean(y_valid == previsao) \n",
    "\n",
    "print(Acuracia)"
   ]
  },
  {
   "cell_type": "markdown",
   "id": "85f3707e",
   "metadata": {},
   "source": [
    "Testando a base com as variaveis categoricas \n"
   ]
  },
  {
   "cell_type": "code",
   "execution_count": 98,
   "id": "b0b2613c",
   "metadata": {},
   "outputs": [],
   "source": [
    "df_category = df[['qtd_abertas','SGUF','NMMUN','Mecanismos_incentivo','Reducao_IPTU', 'Isencao_IPTU', 'Reducao_ISSQN','Isencao_ISSQN','Isencao_Tx',\n",
    "         'Cessao_terrenos','Doacao_terrenos','Outros_mecanismos','ISH','atividade_maior_valor_ad_bruto']]"
   ]
  },
  {
   "cell_type": "code",
   "execution_count": 99,
   "id": "59bdfad2",
   "metadata": {},
   "outputs": [],
   "source": [
    "df_get_2 = pd.get_dummies(df_category , prefix=None, prefix_sep='_', dummy_na=False, columns=None, sparse=False, drop_first=False, dtype=None)"
   ]
  },
  {
   "cell_type": "code",
   "execution_count": 100,
   "id": "231271a3",
   "metadata": {},
   "outputs": [],
   "source": [
    "df_div = np.random.rand(len(df_get_2)) < 0.8 # cria uma mascara com as posicoes\n",
    "train = df_get[df_div]\n",
    "test = df_get[~df_div]"
   ]
  },
  {
   "cell_type": "code",
   "execution_count": 101,
   "id": "3c95f6f1",
   "metadata": {},
   "outputs": [],
   "source": [
    "X = train\n",
    "y = train[\"qtd_abertas\"] \n",
    "X_test = test"
   ]
  },
  {
   "cell_type": "code",
   "execution_count": 102,
   "id": "b120efe8",
   "metadata": {},
   "outputs": [],
   "source": [
    "X = X.drop(\"qtd_abertas\", axis = 1)"
   ]
  },
  {
   "cell_type": "markdown",
   "id": "c86f530f",
   "metadata": {},
   "source": [
    "HistGradientBoostingClassifier"
   ]
  },
  {
   "cell_type": "code",
   "execution_count": 104,
   "id": "961ab9e1",
   "metadata": {},
   "outputs": [],
   "source": [
    "#separando em treino e teste\n",
    "\n",
    "X_treino, X_valid, y_treino, y_valid = train_test_split(X, y, test_size = 0.3, random_state= 0) # 30%"
   ]
  },
  {
   "cell_type": "code",
   "execution_count": 103,
   "id": "b3269b91",
   "metadata": {},
   "outputs": [
    {
     "data": {
      "text/html": [
       "<style>#sk-container-id-2 {color: black;background-color: white;}#sk-container-id-2 pre{padding: 0;}#sk-container-id-2 div.sk-toggleable {background-color: white;}#sk-container-id-2 label.sk-toggleable__label {cursor: pointer;display: block;width: 100%;margin-bottom: 0;padding: 0.3em;box-sizing: border-box;text-align: center;}#sk-container-id-2 label.sk-toggleable__label-arrow:before {content: \"▸\";float: left;margin-right: 0.25em;color: #696969;}#sk-container-id-2 label.sk-toggleable__label-arrow:hover:before {color: black;}#sk-container-id-2 div.sk-estimator:hover label.sk-toggleable__label-arrow:before {color: black;}#sk-container-id-2 div.sk-toggleable__content {max-height: 0;max-width: 0;overflow: hidden;text-align: left;background-color: #f0f8ff;}#sk-container-id-2 div.sk-toggleable__content pre {margin: 0.2em;color: black;border-radius: 0.25em;background-color: #f0f8ff;}#sk-container-id-2 input.sk-toggleable__control:checked~div.sk-toggleable__content {max-height: 200px;max-width: 100%;overflow: auto;}#sk-container-id-2 input.sk-toggleable__control:checked~label.sk-toggleable__label-arrow:before {content: \"▾\";}#sk-container-id-2 div.sk-estimator input.sk-toggleable__control:checked~label.sk-toggleable__label {background-color: #d4ebff;}#sk-container-id-2 div.sk-label input.sk-toggleable__control:checked~label.sk-toggleable__label {background-color: #d4ebff;}#sk-container-id-2 input.sk-hidden--visually {border: 0;clip: rect(1px 1px 1px 1px);clip: rect(1px, 1px, 1px, 1px);height: 1px;margin: -1px;overflow: hidden;padding: 0;position: absolute;width: 1px;}#sk-container-id-2 div.sk-estimator {font-family: monospace;background-color: #f0f8ff;border: 1px dotted black;border-radius: 0.25em;box-sizing: border-box;margin-bottom: 0.5em;}#sk-container-id-2 div.sk-estimator:hover {background-color: #d4ebff;}#sk-container-id-2 div.sk-parallel-item::after {content: \"\";width: 100%;border-bottom: 1px solid gray;flex-grow: 1;}#sk-container-id-2 div.sk-label:hover label.sk-toggleable__label {background-color: #d4ebff;}#sk-container-id-2 div.sk-serial::before {content: \"\";position: absolute;border-left: 1px solid gray;box-sizing: border-box;top: 0;bottom: 0;left: 50%;z-index: 0;}#sk-container-id-2 div.sk-serial {display: flex;flex-direction: column;align-items: center;background-color: white;padding-right: 0.2em;padding-left: 0.2em;position: relative;}#sk-container-id-2 div.sk-item {position: relative;z-index: 1;}#sk-container-id-2 div.sk-parallel {display: flex;align-items: stretch;justify-content: center;background-color: white;position: relative;}#sk-container-id-2 div.sk-item::before, #sk-container-id-2 div.sk-parallel-item::before {content: \"\";position: absolute;border-left: 1px solid gray;box-sizing: border-box;top: 0;bottom: 0;left: 50%;z-index: -1;}#sk-container-id-2 div.sk-parallel-item {display: flex;flex-direction: column;z-index: 1;position: relative;background-color: white;}#sk-container-id-2 div.sk-parallel-item:first-child::after {align-self: flex-end;width: 50%;}#sk-container-id-2 div.sk-parallel-item:last-child::after {align-self: flex-start;width: 50%;}#sk-container-id-2 div.sk-parallel-item:only-child::after {width: 0;}#sk-container-id-2 div.sk-dashed-wrapped {border: 1px dashed gray;margin: 0 0.4em 0.5em 0.4em;box-sizing: border-box;padding-bottom: 0.4em;background-color: white;}#sk-container-id-2 div.sk-label label {font-family: monospace;font-weight: bold;display: inline-block;line-height: 1.2em;}#sk-container-id-2 div.sk-label-container {text-align: center;}#sk-container-id-2 div.sk-container {/* jupyter's `normalize.less` sets `[hidden] { display: none; }` but bootstrap.min.css set `[hidden] { display: none !important; }` so we also need the `!important` here to be able to override the default hidden behavior on the sphinx rendered scikit-learn.org. See: https://github.com/scikit-learn/scikit-learn/issues/21755 */display: inline-block !important;position: relative;}#sk-container-id-2 div.sk-text-repr-fallback {display: none;}</style><div id=\"sk-container-id-2\" class=\"sk-top-container\"><div class=\"sk-text-repr-fallback\"><pre>HistGradientBoostingClassifier(max_depth=3, random_state=0)</pre><b>In a Jupyter environment, please rerun this cell to show the HTML representation or trust the notebook. <br />On GitHub, the HTML representation is unable to render, please try loading this page with nbviewer.org.</b></div><div class=\"sk-container\" hidden><div class=\"sk-item\"><div class=\"sk-estimator sk-toggleable\"><input class=\"sk-toggleable__control sk-hidden--visually\" id=\"sk-estimator-id-2\" type=\"checkbox\" checked><label for=\"sk-estimator-id-2\" class=\"sk-toggleable__label sk-toggleable__label-arrow\">HistGradientBoostingClassifier</label><div class=\"sk-toggleable__content\"><pre>HistGradientBoostingClassifier(max_depth=3, random_state=0)</pre></div></div></div></div></div>"
      ],
      "text/plain": [
       "HistGradientBoostingClassifier(max_depth=3, random_state=0)"
      ]
     },
     "execution_count": 103,
     "metadata": {},
     "output_type": "execute_result"
    }
   ],
   "source": [
    "gradiente = HistGradientBoostingClassifier (max_depth= 3, random_state= 0)\n",
    "gradiente.fit(X_treino, y_treino)"
   ]
  },
  {
   "cell_type": "code",
   "execution_count": 105,
   "id": "17923a18",
   "metadata": {},
   "outputs": [],
   "source": [
    "#previsão do modelo\n",
    "previsao = gradiente.predict(X_valid)"
   ]
  },
  {
   "cell_type": "code",
   "execution_count": 106,
   "id": "88cdf89e",
   "metadata": {},
   "outputs": [
    {
     "name": "stdout",
     "output_type": "stream",
     "text": [
      "0.016454749439042633\n"
     ]
    }
   ],
   "source": [
    "#Acuracia\n",
    "\n",
    "Acuracia = np.mean(y_valid == previsao) \n",
    "\n",
    "print(Acuracia)"
   ]
  },
  {
   "cell_type": "code",
   "execution_count": null,
   "id": "e3cb51ed",
   "metadata": {},
   "outputs": [],
   "source": []
  }
 ],
 "metadata": {
  "kernelspec": {
   "display_name": "Python 3 (ipykernel)",
   "language": "python",
   "name": "python3"
  },
  "language_info": {
   "codemirror_mode": {
    "name": "ipython",
    "version": 3
   },
   "file_extension": ".py",
   "mimetype": "text/x-python",
   "name": "python",
   "nbconvert_exporter": "python",
   "pygments_lexer": "ipython3",
   "version": "3.9.13"
  }
 },
 "nbformat": 4,
 "nbformat_minor": 5
}
